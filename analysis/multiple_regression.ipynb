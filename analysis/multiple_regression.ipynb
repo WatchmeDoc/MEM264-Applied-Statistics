{
 "cells": [
  {
   "cell_type": "markdown",
   "source": [
    "<div align=\"center\">\n",
    "\n",
    "# University of Crete\n",
    "# Department of Applied Mathematics\n",
    "\n",
    "## MEM-264: Applied Statistics\n",
    "### Spring Semester 2022-2023\n",
    "#### Authors:\n",
    "#### Theodoros Chalkidis, csd4198@csd.uoc.gr\n",
    "#### George Manos, csd4333@csd.uoc.gr\n",
    "#### Christos Zarkos csd4516@csd.uoc.gr"
   ],
   "metadata": {
    "collapsed": false
   }
  },
  {
   "cell_type": "markdown",
   "source": [
    "## Imports"
   ],
   "metadata": {
    "collapsed": false
   }
  },
  {
   "cell_type": "code",
   "execution_count": 1,
   "metadata": {
    "collapsed": true
   },
   "outputs": [],
   "source": [
    "import pandas as pd\n",
    "import statsmodels.api as sm"
   ]
  },
  {
   "cell_type": "markdown",
   "source": [
    "## Read Data"
   ],
   "metadata": {
    "collapsed": false
   }
  },
  {
   "cell_type": "code",
   "execution_count": 2,
   "outputs": [
    {
     "data": {
      "text/plain": "   id                              belongs_to_collection    budget  \\\n0   1  [{'id': 313576, 'name': 'Hot Tub Time Machine ...  14000000   \n1   2  [{'id': 107674, 'name': 'The Princess Diaries ...  40000000   \n2   3                                                NaN   3300000   \n3   4                                                NaN   1200000   \n4   5                                                NaN         0   \n\n                                              genres  \\\n0                     [{'id': 35, 'name': 'Comedy'}]   \n1  [{'id': 35, 'name': 'Comedy'}, {'id': 18, 'nam...   \n2                      [{'id': 18, 'name': 'Drama'}]   \n3  [{'id': 53, 'name': 'Thriller'}, {'id': 18, 'n...   \n4  [{'id': 28, 'name': 'Action'}, {'id': 53, 'nam...   \n\n                            homepage    imdb_id original_language  \\\n0                                NaN  tt2637294                en   \n1                                NaN  tt0368933                en   \n2  http://sonyclassics.com/whiplash/  tt2582802                en   \n3         http://kahaanithefilm.com/  tt1821480                hi   \n4                                NaN  tt1380152                ko   \n\n                             original_title  \\\n0                    Hot Tub Time Machine 2   \n1  The Princess Diaries 2: Royal Engagement   \n2                                  Whiplash   \n3                                   Kahaani   \n4                                      마린보이   \n\n                                            overview  popularity  ...  \\\n0  When Lou, who has become the \"father of the In...    6.575393  ...   \n1  Mia Thermopolis is now a college graduate and ...    8.248895  ...   \n2  Under the direction of a ruthless instructor, ...   64.299990  ...   \n3  Vidya Bagchi (Vidya Balan) arrives in Kolkata ...    3.174936  ...   \n4  Marine Boy is the story of a former national s...    1.148070  ...   \n\n  release_date runtime                                   spoken_languages  \\\n0      2/20/15    93.0           [{'iso_639_1': 'en', 'name': 'English'}]   \n1       8/6/04   113.0           [{'iso_639_1': 'en', 'name': 'English'}]   \n2     10/10/14   105.0           [{'iso_639_1': 'en', 'name': 'English'}]   \n3       3/9/12   122.0  [{'iso_639_1': 'en', 'name': 'English'}, {'iso...   \n4       2/5/09   118.0           [{'iso_639_1': 'ko', 'name': '한국어/조선말'}]   \n\n     status                                            tagline  \\\n0  Released  The Laws of Space and Time are About to be Vio...   \n1  Released  It can take a lifetime to find true love; she'...   \n2  Released    The road to greatness can take you to the edge.   \n3  Released                                                NaN   \n4  Released                                                NaN   \n\n                                      title  \\\n0                    Hot Tub Time Machine 2   \n1  The Princess Diaries 2: Royal Engagement   \n2                                  Whiplash   \n3                                   Kahaani   \n4                                Marine Boy   \n\n                                            Keywords  \\\n0  [{'id': 4379, 'name': 'time travel'}, {'id': 9...   \n1  [{'id': 2505, 'name': 'coronation'}, {'id': 42...   \n2  [{'id': 1416, 'name': 'jazz'}, {'id': 1523, 'n...   \n3  [{'id': 10092, 'name': 'mystery'}, {'id': 1054...   \n4                                                NaN   \n\n                                                cast  \\\n0  [{'cast_id': 4, 'character': 'Lou', 'credit_id...   \n1  [{'cast_id': 1, 'character': 'Mia Thermopolis'...   \n2  [{'cast_id': 5, 'character': 'Andrew Neimann',...   \n3  [{'cast_id': 1, 'character': 'Vidya Bagchi', '...   \n4  [{'cast_id': 3, 'character': 'Chun-soo', 'cred...   \n\n                                                crew   revenue  \n0  [{'credit_id': '59ac067c92514107af02c8c8', 'de...  12314651  \n1  [{'credit_id': '52fe43fe9251416c7502563d', 'de...  95149435  \n2  [{'credit_id': '54d5356ec3a3683ba0000039', 'de...  13092000  \n3  [{'credit_id': '52fe48779251416c9108d6eb', 'de...  16000000  \n4  [{'credit_id': '52fe464b9251416c75073b43', 'de...   3923970  \n\n[5 rows x 23 columns]",
      "text/html": "<div>\n<style scoped>\n    .dataframe tbody tr th:only-of-type {\n        vertical-align: middle;\n    }\n\n    .dataframe tbody tr th {\n        vertical-align: top;\n    }\n\n    .dataframe thead th {\n        text-align: right;\n    }\n</style>\n<table border=\"1\" class=\"dataframe\">\n  <thead>\n    <tr style=\"text-align: right;\">\n      <th></th>\n      <th>id</th>\n      <th>belongs_to_collection</th>\n      <th>budget</th>\n      <th>genres</th>\n      <th>homepage</th>\n      <th>imdb_id</th>\n      <th>original_language</th>\n      <th>original_title</th>\n      <th>overview</th>\n      <th>popularity</th>\n      <th>...</th>\n      <th>release_date</th>\n      <th>runtime</th>\n      <th>spoken_languages</th>\n      <th>status</th>\n      <th>tagline</th>\n      <th>title</th>\n      <th>Keywords</th>\n      <th>cast</th>\n      <th>crew</th>\n      <th>revenue</th>\n    </tr>\n  </thead>\n  <tbody>\n    <tr>\n      <th>0</th>\n      <td>1</td>\n      <td>[{'id': 313576, 'name': 'Hot Tub Time Machine ...</td>\n      <td>14000000</td>\n      <td>[{'id': 35, 'name': 'Comedy'}]</td>\n      <td>NaN</td>\n      <td>tt2637294</td>\n      <td>en</td>\n      <td>Hot Tub Time Machine 2</td>\n      <td>When Lou, who has become the \"father of the In...</td>\n      <td>6.575393</td>\n      <td>...</td>\n      <td>2/20/15</td>\n      <td>93.0</td>\n      <td>[{'iso_639_1': 'en', 'name': 'English'}]</td>\n      <td>Released</td>\n      <td>The Laws of Space and Time are About to be Vio...</td>\n      <td>Hot Tub Time Machine 2</td>\n      <td>[{'id': 4379, 'name': 'time travel'}, {'id': 9...</td>\n      <td>[{'cast_id': 4, 'character': 'Lou', 'credit_id...</td>\n      <td>[{'credit_id': '59ac067c92514107af02c8c8', 'de...</td>\n      <td>12314651</td>\n    </tr>\n    <tr>\n      <th>1</th>\n      <td>2</td>\n      <td>[{'id': 107674, 'name': 'The Princess Diaries ...</td>\n      <td>40000000</td>\n      <td>[{'id': 35, 'name': 'Comedy'}, {'id': 18, 'nam...</td>\n      <td>NaN</td>\n      <td>tt0368933</td>\n      <td>en</td>\n      <td>The Princess Diaries 2: Royal Engagement</td>\n      <td>Mia Thermopolis is now a college graduate and ...</td>\n      <td>8.248895</td>\n      <td>...</td>\n      <td>8/6/04</td>\n      <td>113.0</td>\n      <td>[{'iso_639_1': 'en', 'name': 'English'}]</td>\n      <td>Released</td>\n      <td>It can take a lifetime to find true love; she'...</td>\n      <td>The Princess Diaries 2: Royal Engagement</td>\n      <td>[{'id': 2505, 'name': 'coronation'}, {'id': 42...</td>\n      <td>[{'cast_id': 1, 'character': 'Mia Thermopolis'...</td>\n      <td>[{'credit_id': '52fe43fe9251416c7502563d', 'de...</td>\n      <td>95149435</td>\n    </tr>\n    <tr>\n      <th>2</th>\n      <td>3</td>\n      <td>NaN</td>\n      <td>3300000</td>\n      <td>[{'id': 18, 'name': 'Drama'}]</td>\n      <td>http://sonyclassics.com/whiplash/</td>\n      <td>tt2582802</td>\n      <td>en</td>\n      <td>Whiplash</td>\n      <td>Under the direction of a ruthless instructor, ...</td>\n      <td>64.299990</td>\n      <td>...</td>\n      <td>10/10/14</td>\n      <td>105.0</td>\n      <td>[{'iso_639_1': 'en', 'name': 'English'}]</td>\n      <td>Released</td>\n      <td>The road to greatness can take you to the edge.</td>\n      <td>Whiplash</td>\n      <td>[{'id': 1416, 'name': 'jazz'}, {'id': 1523, 'n...</td>\n      <td>[{'cast_id': 5, 'character': 'Andrew Neimann',...</td>\n      <td>[{'credit_id': '54d5356ec3a3683ba0000039', 'de...</td>\n      <td>13092000</td>\n    </tr>\n    <tr>\n      <th>3</th>\n      <td>4</td>\n      <td>NaN</td>\n      <td>1200000</td>\n      <td>[{'id': 53, 'name': 'Thriller'}, {'id': 18, 'n...</td>\n      <td>http://kahaanithefilm.com/</td>\n      <td>tt1821480</td>\n      <td>hi</td>\n      <td>Kahaani</td>\n      <td>Vidya Bagchi (Vidya Balan) arrives in Kolkata ...</td>\n      <td>3.174936</td>\n      <td>...</td>\n      <td>3/9/12</td>\n      <td>122.0</td>\n      <td>[{'iso_639_1': 'en', 'name': 'English'}, {'iso...</td>\n      <td>Released</td>\n      <td>NaN</td>\n      <td>Kahaani</td>\n      <td>[{'id': 10092, 'name': 'mystery'}, {'id': 1054...</td>\n      <td>[{'cast_id': 1, 'character': 'Vidya Bagchi', '...</td>\n      <td>[{'credit_id': '52fe48779251416c9108d6eb', 'de...</td>\n      <td>16000000</td>\n    </tr>\n    <tr>\n      <th>4</th>\n      <td>5</td>\n      <td>NaN</td>\n      <td>0</td>\n      <td>[{'id': 28, 'name': 'Action'}, {'id': 53, 'nam...</td>\n      <td>NaN</td>\n      <td>tt1380152</td>\n      <td>ko</td>\n      <td>마린보이</td>\n      <td>Marine Boy is the story of a former national s...</td>\n      <td>1.148070</td>\n      <td>...</td>\n      <td>2/5/09</td>\n      <td>118.0</td>\n      <td>[{'iso_639_1': 'ko', 'name': '한국어/조선말'}]</td>\n      <td>Released</td>\n      <td>NaN</td>\n      <td>Marine Boy</td>\n      <td>NaN</td>\n      <td>[{'cast_id': 3, 'character': 'Chun-soo', 'cred...</td>\n      <td>[{'credit_id': '52fe464b9251416c75073b43', 'de...</td>\n      <td>3923970</td>\n    </tr>\n  </tbody>\n</table>\n<p>5 rows × 23 columns</p>\n</div>"
     },
     "execution_count": 2,
     "metadata": {},
     "output_type": "execute_result"
    }
   ],
   "source": [
    "full_df = pd.read_csv('../data/movie_revenues.csv')\n",
    "\n",
    "full_df.head()"
   ],
   "metadata": {
    "collapsed": false
   }
  },
  {
   "cell_type": "markdown",
   "source": [
    "## Data Preparation\n",
    "\n",
    "Choose the desired predictors, construct more features prior to model training"
   ],
   "metadata": {
    "collapsed": false
   }
  },
  {
   "cell_type": "code",
   "execution_count": 3,
   "outputs": [],
   "source": [
    "famous_directors = [\"David Fincher\", \"Martin Scorsese\", \"Quentin Tarantino\", \"Christopher Nolan\", \"Peter Jackson\", \"Tim Burton\", \"Clint Eastwood\", \"James Cameron\", \"Francis Ford Coppola\", \"Steven Spielberg\"]\n",
    "\n",
    "famous_actors = [\"Jack Nicholson\", \"Marlon Brando\", \"Robert De Niro\", \"Al Pacino\", \"Daniel Day-Lewis\", \"Dustin Hoffman\", \"Tom Hanks\", \"Paul Newman\", \"Denzel Washington\", \"Harrison Ford\", \"Brad Pitt\", \"George Clooney\", \"Matt Damon\", \"Gerard Butler\", \"Leonardo DiCaprio\", \"Tom Cruise\", \"Christian Bale\", \"Robert Downey Jr.\", \"Audrey Hepburn\", \"Meryl Streep\", \"Cate Blanchett\", \"Julianne Moore\", \"Jodie Foster\", \"Shirley MacLaine\", \"Susan Sarandon\", \"Jane Fonda\", \"Judi Dench\", \"Gwyneth Paltrow\", \"Angelina Jolie\", \"Kate Winslet\", \"Hilary Swank\", \"Helena Bonham Carter\", \"Nicole Kidman\", \"Uma Thurman\"]\n",
    "famous_companies = ['Disney']"
   ],
   "metadata": {
    "collapsed": false
   }
  },
  {
   "cell_type": "code",
   "execution_count": 4,
   "outputs": [
    {
     "data": {
      "text/plain": "     budget  is_english  runtime  popularity  is_summer  movie_age  \\\n0  14000000           1     93.0    6.575393          0          8   \n1  40000000           1    113.0    8.248895          1         19   \n2   3300000           1    105.0   64.299990          0          9   \n3   1200000           0    122.0    3.174936          0         11   \n4         0           0    118.0    1.148070          0         14   \n\n   actor_score  director_score  company_score   revenue  \n0            0               0              0  12314651  \n1            0               0              1  95149435  \n2            0               0              0  13092000  \n3            0               0              0  16000000  \n4            0               0              0   3923970  ",
      "text/html": "<div>\n<style scoped>\n    .dataframe tbody tr th:only-of-type {\n        vertical-align: middle;\n    }\n\n    .dataframe tbody tr th {\n        vertical-align: top;\n    }\n\n    .dataframe thead th {\n        text-align: right;\n    }\n</style>\n<table border=\"1\" class=\"dataframe\">\n  <thead>\n    <tr style=\"text-align: right;\">\n      <th></th>\n      <th>budget</th>\n      <th>is_english</th>\n      <th>runtime</th>\n      <th>popularity</th>\n      <th>is_summer</th>\n      <th>movie_age</th>\n      <th>actor_score</th>\n      <th>director_score</th>\n      <th>company_score</th>\n      <th>revenue</th>\n    </tr>\n  </thead>\n  <tbody>\n    <tr>\n      <th>0</th>\n      <td>14000000</td>\n      <td>1</td>\n      <td>93.0</td>\n      <td>6.575393</td>\n      <td>0</td>\n      <td>8</td>\n      <td>0</td>\n      <td>0</td>\n      <td>0</td>\n      <td>12314651</td>\n    </tr>\n    <tr>\n      <th>1</th>\n      <td>40000000</td>\n      <td>1</td>\n      <td>113.0</td>\n      <td>8.248895</td>\n      <td>1</td>\n      <td>19</td>\n      <td>0</td>\n      <td>0</td>\n      <td>1</td>\n      <td>95149435</td>\n    </tr>\n    <tr>\n      <th>2</th>\n      <td>3300000</td>\n      <td>1</td>\n      <td>105.0</td>\n      <td>64.299990</td>\n      <td>0</td>\n      <td>9</td>\n      <td>0</td>\n      <td>0</td>\n      <td>0</td>\n      <td>13092000</td>\n    </tr>\n    <tr>\n      <th>3</th>\n      <td>1200000</td>\n      <td>0</td>\n      <td>122.0</td>\n      <td>3.174936</td>\n      <td>0</td>\n      <td>11</td>\n      <td>0</td>\n      <td>0</td>\n      <td>0</td>\n      <td>16000000</td>\n    </tr>\n    <tr>\n      <th>4</th>\n      <td>0</td>\n      <td>0</td>\n      <td>118.0</td>\n      <td>1.148070</td>\n      <td>0</td>\n      <td>14</td>\n      <td>0</td>\n      <td>0</td>\n      <td>0</td>\n      <td>3923970</td>\n    </tr>\n  </tbody>\n</table>\n</div>"
     },
     "execution_count": 4,
     "metadata": {},
     "output_type": "execute_result"
    }
   ],
   "source": [
    "full_df['is_english'] = (full_df['original_language'] == 'en').astype(int)\n",
    "full_df['is_summer'] = full_df['release_date'].apply(lambda x: int(x.split(\"/\")[0])).between(6, 9).astype(int)\n",
    "full_df['movie_age'] = full_df['release_date'].apply(lambda x: int(x.split(\"/\")[2])).apply(lambda x: 23 - x if x <= 23 else 123 - x)\n",
    "full_df['actor_score'] = full_df['cast'].apply(lambda x: sum(i in str(x) for i in famous_actors))\n",
    "full_df['director_score'] = full_df['crew'].apply(lambda x: sum(i in str(x) for i in famous_directors))\n",
    "full_df['company_score'] = full_df['production_companies'].apply(lambda x: sum(i in str(x) for i in famous_companies))\n",
    "\n",
    "# Make sure revenue is the last variable here as it is the target!\n",
    "variables = ['budget', 'is_english', 'runtime', 'popularity', 'is_summer', 'movie_age', 'actor_score', 'director_score', 'company_score', 'revenue']\n",
    "df = full_df[variables].dropna()\n",
    "target = 'revenue'\n",
    "df.head()"
   ],
   "metadata": {
    "collapsed": false
   }
  },
  {
   "cell_type": "markdown",
   "source": [
    "Note: `.dropna()` drops columns with NaN values. We can probably address this issue in better ways (i.e. mean imputation etc)\n",
    "\n",
    "## Train Model\n",
    "\n",
    "// Comment: De kserw an prepei na kanoume regression opws edeikse stis dialekseis h apla na paroume etoimh function. Pros to paron pairnw etoimh, esteila mail gia confirmation :)"
   ],
   "metadata": {
    "collapsed": false
   }
  },
  {
   "cell_type": "code",
   "execution_count": 5,
   "outputs": [],
   "source": [
    "x = df.drop(target, axis='columns')\n",
    "y = df[target]\n",
    "\n",
    "x = sm.add_constant(x)\n",
    "\n",
    "model = sm.OLS(y, x).fit()"
   ],
   "metadata": {
    "collapsed": false
   }
  },
  {
   "cell_type": "markdown",
   "source": [
    "## Compute R^2"
   ],
   "metadata": {
    "collapsed": false
   }
  },
  {
   "cell_type": "code",
   "execution_count": 6,
   "outputs": [
    {
     "name": "stdout",
     "output_type": "stream",
     "text": [
      "Number of Predictors: 9\n",
      "n: 2998\n",
      "R^2: 0.6212085029675737\n",
      "R^2_adj: 0.6200675647235001\n"
     ]
    }
   ],
   "source": [
    "y_mean = df[target].mean()\n",
    "y_hat = model.predict(x)\n",
    "y = df[target]\n",
    "SS_res = sum((y - y_hat)**2)\n",
    "SS_tot = sum((y - y_mean)**2)\n",
    "\n",
    "R_squared = 1 - (SS_res / SS_tot)\n",
    "n, p = df.drop(target, axis='columns').shape\n",
    "print(f'Number of Predictors: {p}\\nn: {n}')\n",
    "R_adj = 1 - ((SS_res / SS_tot) * ((n - 1) / (n - p - 1)))\n",
    "\n",
    "print(f'R^2: {R_squared}\\nR^2_adj: {R_adj}')"
   ],
   "metadata": {
    "collapsed": false
   }
  },
  {
   "cell_type": "markdown",
   "source": [
    "## Check the slope associated with the Budget Variable"
   ],
   "metadata": {
    "collapsed": false
   }
  },
  {
   "cell_type": "code",
   "execution_count": 7,
   "outputs": [
    {
     "name": "stdout",
     "output_type": "stream",
     "text": [
      "                            OLS Regression Results                            \n",
      "==============================================================================\n",
      "Dep. Variable:                revenue   R-squared:                       0.621\n",
      "Model:                            OLS   Adj. R-squared:                  0.620\n",
      "Method:                 Least Squares   F-statistic:                     544.5\n",
      "Date:                Sat, 17 Jun 2023   Prob (F-statistic):               0.00\n",
      "Time:                        17:55:30   Log-Likelihood:                -58980.\n",
      "No. Observations:                2998   AIC:                         1.180e+05\n",
      "Df Residuals:                    2988   BIC:                         1.180e+05\n",
      "Df Model:                           9                                         \n",
      "Covariance Type:            nonrobust                                         \n",
      "==================================================================================\n",
      "                     coef    std err          t      P>|t|      [0.025      0.975]\n",
      "----------------------------------------------------------------------------------\n",
      "const          -2.865e+07   9.44e+06     -3.035      0.002   -4.72e+07   -1.01e+07\n",
      "budget             2.4424      0.050     48.588      0.000       2.344       2.541\n",
      "is_english     -6.697e+06   4.72e+06     -1.419      0.156    -1.6e+07    2.56e+06\n",
      "runtime         1.403e+05   7.48e+04      1.875      0.061   -6427.861    2.87e+05\n",
      "popularity      2.565e+06   1.37e+05     18.662      0.000     2.3e+06    2.83e+06\n",
      "is_summer       2.591e+06   3.24e+06      0.799      0.424   -3.77e+06    8.95e+06\n",
      "movie_age       2.546e+05   1.06e+05      2.394      0.017    4.61e+04    4.63e+05\n",
      "actor_score    -1.785e+06    3.9e+06     -0.458      0.647   -9.43e+06    5.86e+06\n",
      "director_score  4.005e+07   8.17e+06      4.906      0.000     2.4e+07    5.61e+07\n",
      "company_score   4.665e+07   1.04e+07      4.474      0.000    2.62e+07    6.71e+07\n",
      "==============================================================================\n",
      "Omnibus:                     2037.782   Durbin-Watson:                   2.027\n",
      "Prob(Omnibus):                  0.000   Jarque-Bera (JB):            63795.881\n",
      "Skew:                           2.782   Prob(JB):                         0.00\n",
      "Kurtosis:                      24.903   Cond. No.                     2.95e+08\n",
      "==============================================================================\n",
      "\n",
      "Notes:\n",
      "[1] Standard Errors assume that the covariance matrix of the errors is correctly specified.\n",
      "[2] The condition number is large, 2.95e+08. This might indicate that there are\n",
      "strong multicollinearity or other numerical problems.\n"
     ]
    }
   ],
   "source": [
    "print(model.summary())"
   ],
   "metadata": {
    "collapsed": false,
    "pycharm": {
     "name": "#%%\n"
    }
   }
  },
  {
   "cell_type": "markdown",
   "source": [
    "## Find significant variables for predicting movie revenue\n",
    "\n",
    "We noticed that the condition number is large, which might indicate that there are strong multicollinearity problems between the variables. For this purpose we chose to deploy forward selection and backward elimination algorithms to select the most significant variables for predicting movie revenue."
   ],
   "metadata": {
    "collapsed": false
   }
  },
  {
   "cell_type": "markdown",
   "source": [
    "## Step 1: Define statistical test"
   ],
   "metadata": {
    "collapsed": false
   }
  },
  {
   "cell_type": "code",
   "execution_count": 8,
   "outputs": [],
   "source": [
    "from causallearn.utils.cit import CIT\n",
    "\n",
    "def stat_test(D, V_idx, T_idx, S=None):\n",
    "    chi_obj = CIT(D, \"fisherz\")  # construct a Chi-Squared Test instance with data and method name\n",
    "    pValue = chi_obj(V_idx, T_idx, S)\n",
    "    return pValue"
   ],
   "metadata": {
    "collapsed": false,
    "pycharm": {
     "name": "#%%\n"
    }
   }
  },
  {
   "cell_type": "markdown",
   "source": [
    "## Step 2: Define Forward Selection and Backward Deletion Algorithms"
   ],
   "metadata": {
    "collapsed": false
   }
  },
  {
   "cell_type": "code",
   "execution_count": 9,
   "outputs": [],
   "source": [
    "def forward_selection(D, V_indices, T_idx, a, S=None):\n",
    "    \"\"\"\n",
    "    Forward Selection algorithm. Fills up set S with variables that are\n",
    "    highly correlated to the target variable.\n",
    "    :param D: Full Dataset\n",
    "    :param V_indices: Variable column indices\n",
    "    :param T_idx: Target variable column index\n",
    "    :param S: Previously selected Variables (optional)\n",
    "    :param a: Significance Threshold\n",
    "    :return S: Selected Variables\n",
    "    \"\"\"\n",
    "    flag = True\n",
    "    if S is None:\n",
    "        S = set()\n",
    "        R = V_indices\n",
    "    else:\n",
    "        R = V_indices.drop(S)\n",
    "    while flag:\n",
    "        flag = False\n",
    "        V_star, p_value = min(\n",
    "            [\n",
    "                (V_idx, stat_test(D=D.values, V_idx=V_idx, T_idx=T_idx, S=S))\n",
    "                for V_idx in R\n",
    "            ],\n",
    "            key=lambda x: x[1],\n",
    "        )\n",
    "        R = R.drop(V_star)\n",
    "        if p_value <= a:\n",
    "            S.add(V_star)\n",
    "            flag = True\n",
    "    return S\n",
    "\n",
    "def backward_elimination(D, T_idx, S, a):\n",
    "    \"\"\"\n",
    "    Backward Elimination algorithm. Essentially discards variables from set S that\n",
    "    are not important to the target index, given the rest of the set S.\n",
    "    :param D: Full Dataset\n",
    "    :param T_idx: Target variable index\n",
    "    :param S: Previously Selected Variables\n",
    "    :param a: Significance Threshold\n",
    "    :return S: Selected Variables\n",
    "    \"\"\"\n",
    "    flag = len(S) > 0\n",
    "    while flag:\n",
    "        flag = False\n",
    "        V_star, p_value = max(\n",
    "            [\n",
    "                (\n",
    "                    V_idx,\n",
    "                    stat_test(\n",
    "                        D=D.values, V_idx=V_idx, T_idx=T_idx, S=S.difference({V_idx})\n",
    "                    ),\n",
    "                )\n",
    "                for V_idx in S\n",
    "            ],\n",
    "            key=lambda x: x[1],\n",
    "        )\n",
    "        if p_value > a:\n",
    "            S.remove(V_star)\n",
    "            flag = True\n",
    "    return S"
   ],
   "metadata": {
    "collapsed": false
   }
  },
  {
   "cell_type": "markdown",
   "source": [
    "## Step 3: Apply Separately Forward and Backward Algorithms\n",
    "\n",
    "Forward Selection:"
   ],
   "metadata": {
    "collapsed": false
   }
  },
  {
   "cell_type": "code",
   "execution_count": 10,
   "outputs": [],
   "source": [
    "a = 0.05 # significance level\n",
    "\n",
    "# Remove column names to apply feature selection\n",
    "df.columns = range(df.shape[1])\n",
    "\n",
    "x_cols = df.columns[:-1]\n",
    "y_col = df.columns[-1]"
   ],
   "metadata": {
    "collapsed": false,
    "pycharm": {
     "name": "#%%\n"
    }
   }
  },
  {
   "cell_type": "code",
   "execution_count": 11,
   "outputs": [
    {
     "data": {
      "text/plain": "['budget',\n 'runtime',\n 'popularity',\n 'movie_age',\n 'director_score',\n 'company_score']"
     },
     "execution_count": 11,
     "metadata": {},
     "output_type": "execute_result"
    }
   ],
   "source": [
    "forward_selected_vars = forward_selection(D=df, V_indices=x_cols, T_idx=y_col, a=a)\n",
    "forward_selected_vars = [variables[i] for i in forward_selected_vars]\n",
    "forward_selected_vars"
   ],
   "metadata": {
    "collapsed": false,
    "pycharm": {
     "name": "#%%\n"
    }
   }
  },
  {
   "cell_type": "markdown",
   "source": [
    "Backward Elimination:"
   ],
   "metadata": {
    "collapsed": false
   }
  },
  {
   "cell_type": "code",
   "execution_count": 12,
   "outputs": [
    {
     "data": {
      "text/plain": "['budget',\n 'runtime',\n 'popularity',\n 'movie_age',\n 'director_score',\n 'company_score']"
     },
     "execution_count": 12,
     "metadata": {},
     "output_type": "execute_result"
    }
   ],
   "source": [
    "backward_selected_vars = backward_elimination(D=df, T_idx=y_col, S = set(x_cols), a=a)\n",
    "backward_selected_vars = [variables[i] for i in backward_selected_vars]\n",
    "backward_selected_vars"
   ],
   "metadata": {
    "collapsed": false,
    "pycharm": {
     "name": "#%%\n"
    }
   }
  },
  {
   "cell_type": "markdown",
   "source": [
    "## Extra step 4: Apply Forward-Backward variable selection\n",
    "\n",
    "We may also apply forward-backward feature selection algorithm, where you essentially apply forward selection to the full dataset and backward elimination on the selected variables of the forward step, to also see our results"
   ],
   "metadata": {
    "collapsed": false
   }
  },
  {
   "cell_type": "code",
   "execution_count": 13,
   "outputs": [
    {
     "data": {
      "text/plain": "['budget',\n 'runtime',\n 'popularity',\n 'movie_age',\n 'director_score',\n 'company_score']"
     },
     "execution_count": 13,
     "metadata": {},
     "output_type": "execute_result"
    }
   ],
   "source": [
    "S = forward_selection(D=df, V_indices=x_cols, T_idx=y_col, a=a)\n",
    "selected_vars = backward_elimination(D=df, T_idx=y_col, S=S, a=a)\n",
    "selected_vars = [variables[i] for i in selected_vars]\n",
    "selected_vars"
   ],
   "metadata": {
    "collapsed": false,
    "pycharm": {
     "name": "#%%\n"
    }
   }
  }
 ],
 "metadata": {
  "kernelspec": {
   "display_name": "Python 3",
   "language": "python",
   "name": "python3"
  },
  "language_info": {
   "codemirror_mode": {
    "name": "ipython",
    "version": 2
   },
   "file_extension": ".py",
   "mimetype": "text/x-python",
   "name": "python",
   "nbconvert_exporter": "python",
   "pygments_lexer": "ipython2",
   "version": "2.7.6"
  }
 },
 "nbformat": 4,
 "nbformat_minor": 0
}