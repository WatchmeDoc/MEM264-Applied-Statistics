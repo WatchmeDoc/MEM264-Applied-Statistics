{
 "cells": [
  {
   "cell_type": "markdown",
   "metadata": {},
   "source": [
    "<div align=\"center\">\n",
    "\n",
    "# University of Crete\n",
    "# Department of Applied Mathematics\n",
    "\n",
    "## MEM-264: Applied Statistics\n",
    "### Spring Semester 2022-2023\n",
    "#### Authors:\n",
    "#### Theodoros Chalkidis, csd4198@csd.uoc.gr\n",
    "#### George Manos, csd4333@csd.uoc.gr\n",
    "#### Christos Zarkos csd4516@csd.uoc.gr"
   ]
  },
  {
   "cell_type": "markdown",
   "metadata": {},
   "source": [
    "## Imports"
   ]
  },
  {
   "cell_type": "code",
   "execution_count": 46,
   "metadata": {},
   "outputs": [],
   "source": [
    "import pandas as pd\n",
    "import statsmodels.api as sm\n",
    "import matplotlib.pyplot as plt"
   ]
  },
  {
   "cell_type": "markdown",
   "metadata": {},
   "source": [
    "## Read Data"
   ]
  },
  {
   "cell_type": "code",
   "execution_count": 47,
   "metadata": {},
   "outputs": [
    {
     "data": {
      "text/html": [
       "<div>\n",
       "<style scoped>\n",
       "    .dataframe tbody tr th:only-of-type {\n",
       "        vertical-align: middle;\n",
       "    }\n",
       "\n",
       "    .dataframe tbody tr th {\n",
       "        vertical-align: top;\n",
       "    }\n",
       "\n",
       "    .dataframe thead th {\n",
       "        text-align: right;\n",
       "    }\n",
       "</style>\n",
       "<table border=\"1\" class=\"dataframe\">\n",
       "  <thead>\n",
       "    <tr style=\"text-align: right;\">\n",
       "      <th></th>\n",
       "      <th>id</th>\n",
       "      <th>belongs_to_collection</th>\n",
       "      <th>budget</th>\n",
       "      <th>genres</th>\n",
       "      <th>homepage</th>\n",
       "      <th>imdb_id</th>\n",
       "      <th>original_language</th>\n",
       "      <th>original_title</th>\n",
       "      <th>overview</th>\n",
       "      <th>popularity</th>\n",
       "      <th>...</th>\n",
       "      <th>release_date</th>\n",
       "      <th>runtime</th>\n",
       "      <th>spoken_languages</th>\n",
       "      <th>status</th>\n",
       "      <th>tagline</th>\n",
       "      <th>title</th>\n",
       "      <th>Keywords</th>\n",
       "      <th>cast</th>\n",
       "      <th>crew</th>\n",
       "      <th>revenue</th>\n",
       "    </tr>\n",
       "  </thead>\n",
       "  <tbody>\n",
       "    <tr>\n",
       "      <th>0</th>\n",
       "      <td>1</td>\n",
       "      <td>[{'id': 313576, 'name': 'Hot Tub Time Machine ...</td>\n",
       "      <td>14000000</td>\n",
       "      <td>[{'id': 35, 'name': 'Comedy'}]</td>\n",
       "      <td>NaN</td>\n",
       "      <td>tt2637294</td>\n",
       "      <td>en</td>\n",
       "      <td>Hot Tub Time Machine 2</td>\n",
       "      <td>When Lou, who has become the \"father of the In...</td>\n",
       "      <td>6.575393</td>\n",
       "      <td>...</td>\n",
       "      <td>2/20/15</td>\n",
       "      <td>93.0</td>\n",
       "      <td>[{'iso_639_1': 'en', 'name': 'English'}]</td>\n",
       "      <td>Released</td>\n",
       "      <td>The Laws of Space and Time are About to be Vio...</td>\n",
       "      <td>Hot Tub Time Machine 2</td>\n",
       "      <td>[{'id': 4379, 'name': 'time travel'}, {'id': 9...</td>\n",
       "      <td>[{'cast_id': 4, 'character': 'Lou', 'credit_id...</td>\n",
       "      <td>[{'credit_id': '59ac067c92514107af02c8c8', 'de...</td>\n",
       "      <td>12314651</td>\n",
       "    </tr>\n",
       "    <tr>\n",
       "      <th>1</th>\n",
       "      <td>2</td>\n",
       "      <td>[{'id': 107674, 'name': 'The Princess Diaries ...</td>\n",
       "      <td>40000000</td>\n",
       "      <td>[{'id': 35, 'name': 'Comedy'}, {'id': 18, 'nam...</td>\n",
       "      <td>NaN</td>\n",
       "      <td>tt0368933</td>\n",
       "      <td>en</td>\n",
       "      <td>The Princess Diaries 2: Royal Engagement</td>\n",
       "      <td>Mia Thermopolis is now a college graduate and ...</td>\n",
       "      <td>8.248895</td>\n",
       "      <td>...</td>\n",
       "      <td>8/6/04</td>\n",
       "      <td>113.0</td>\n",
       "      <td>[{'iso_639_1': 'en', 'name': 'English'}]</td>\n",
       "      <td>Released</td>\n",
       "      <td>It can take a lifetime to find true love; she'...</td>\n",
       "      <td>The Princess Diaries 2: Royal Engagement</td>\n",
       "      <td>[{'id': 2505, 'name': 'coronation'}, {'id': 42...</td>\n",
       "      <td>[{'cast_id': 1, 'character': 'Mia Thermopolis'...</td>\n",
       "      <td>[{'credit_id': '52fe43fe9251416c7502563d', 'de...</td>\n",
       "      <td>95149435</td>\n",
       "    </tr>\n",
       "    <tr>\n",
       "      <th>2</th>\n",
       "      <td>3</td>\n",
       "      <td>NaN</td>\n",
       "      <td>3300000</td>\n",
       "      <td>[{'id': 18, 'name': 'Drama'}]</td>\n",
       "      <td>http://sonyclassics.com/whiplash/</td>\n",
       "      <td>tt2582802</td>\n",
       "      <td>en</td>\n",
       "      <td>Whiplash</td>\n",
       "      <td>Under the direction of a ruthless instructor, ...</td>\n",
       "      <td>64.299990</td>\n",
       "      <td>...</td>\n",
       "      <td>10/10/14</td>\n",
       "      <td>105.0</td>\n",
       "      <td>[{'iso_639_1': 'en', 'name': 'English'}]</td>\n",
       "      <td>Released</td>\n",
       "      <td>The road to greatness can take you to the edge.</td>\n",
       "      <td>Whiplash</td>\n",
       "      <td>[{'id': 1416, 'name': 'jazz'}, {'id': 1523, 'n...</td>\n",
       "      <td>[{'cast_id': 5, 'character': 'Andrew Neimann',...</td>\n",
       "      <td>[{'credit_id': '54d5356ec3a3683ba0000039', 'de...</td>\n",
       "      <td>13092000</td>\n",
       "    </tr>\n",
       "    <tr>\n",
       "      <th>3</th>\n",
       "      <td>4</td>\n",
       "      <td>NaN</td>\n",
       "      <td>1200000</td>\n",
       "      <td>[{'id': 53, 'name': 'Thriller'}, {'id': 18, 'n...</td>\n",
       "      <td>http://kahaanithefilm.com/</td>\n",
       "      <td>tt1821480</td>\n",
       "      <td>hi</td>\n",
       "      <td>Kahaani</td>\n",
       "      <td>Vidya Bagchi (Vidya Balan) arrives in Kolkata ...</td>\n",
       "      <td>3.174936</td>\n",
       "      <td>...</td>\n",
       "      <td>3/9/12</td>\n",
       "      <td>122.0</td>\n",
       "      <td>[{'iso_639_1': 'en', 'name': 'English'}, {'iso...</td>\n",
       "      <td>Released</td>\n",
       "      <td>NaN</td>\n",
       "      <td>Kahaani</td>\n",
       "      <td>[{'id': 10092, 'name': 'mystery'}, {'id': 1054...</td>\n",
       "      <td>[{'cast_id': 1, 'character': 'Vidya Bagchi', '...</td>\n",
       "      <td>[{'credit_id': '52fe48779251416c9108d6eb', 'de...</td>\n",
       "      <td>16000000</td>\n",
       "    </tr>\n",
       "    <tr>\n",
       "      <th>4</th>\n",
       "      <td>5</td>\n",
       "      <td>NaN</td>\n",
       "      <td>0</td>\n",
       "      <td>[{'id': 28, 'name': 'Action'}, {'id': 53, 'nam...</td>\n",
       "      <td>NaN</td>\n",
       "      <td>tt1380152</td>\n",
       "      <td>ko</td>\n",
       "      <td>마린보이</td>\n",
       "      <td>Marine Boy is the story of a former national s...</td>\n",
       "      <td>1.148070</td>\n",
       "      <td>...</td>\n",
       "      <td>2/5/09</td>\n",
       "      <td>118.0</td>\n",
       "      <td>[{'iso_639_1': 'ko', 'name': '한국어/조선말'}]</td>\n",
       "      <td>Released</td>\n",
       "      <td>NaN</td>\n",
       "      <td>Marine Boy</td>\n",
       "      <td>NaN</td>\n",
       "      <td>[{'cast_id': 3, 'character': 'Chun-soo', 'cred...</td>\n",
       "      <td>[{'credit_id': '52fe464b9251416c75073b43', 'de...</td>\n",
       "      <td>3923970</td>\n",
       "    </tr>\n",
       "  </tbody>\n",
       "</table>\n",
       "<p>5 rows × 23 columns</p>\n",
       "</div>"
      ],
      "text/plain": [
       "   id                              belongs_to_collection    budget  \\\n",
       "0   1  [{'id': 313576, 'name': 'Hot Tub Time Machine ...  14000000   \n",
       "1   2  [{'id': 107674, 'name': 'The Princess Diaries ...  40000000   \n",
       "2   3                                                NaN   3300000   \n",
       "3   4                                                NaN   1200000   \n",
       "4   5                                                NaN         0   \n",
       "\n",
       "                                              genres  \\\n",
       "0                     [{'id': 35, 'name': 'Comedy'}]   \n",
       "1  [{'id': 35, 'name': 'Comedy'}, {'id': 18, 'nam...   \n",
       "2                      [{'id': 18, 'name': 'Drama'}]   \n",
       "3  [{'id': 53, 'name': 'Thriller'}, {'id': 18, 'n...   \n",
       "4  [{'id': 28, 'name': 'Action'}, {'id': 53, 'nam...   \n",
       "\n",
       "                            homepage    imdb_id original_language  \\\n",
       "0                                NaN  tt2637294                en   \n",
       "1                                NaN  tt0368933                en   \n",
       "2  http://sonyclassics.com/whiplash/  tt2582802                en   \n",
       "3         http://kahaanithefilm.com/  tt1821480                hi   \n",
       "4                                NaN  tt1380152                ko   \n",
       "\n",
       "                             original_title  \\\n",
       "0                    Hot Tub Time Machine 2   \n",
       "1  The Princess Diaries 2: Royal Engagement   \n",
       "2                                  Whiplash   \n",
       "3                                   Kahaani   \n",
       "4                                      마린보이   \n",
       "\n",
       "                                            overview  popularity  ...  \\\n",
       "0  When Lou, who has become the \"father of the In...    6.575393  ...   \n",
       "1  Mia Thermopolis is now a college graduate and ...    8.248895  ...   \n",
       "2  Under the direction of a ruthless instructor, ...   64.299990  ...   \n",
       "3  Vidya Bagchi (Vidya Balan) arrives in Kolkata ...    3.174936  ...   \n",
       "4  Marine Boy is the story of a former national s...    1.148070  ...   \n",
       "\n",
       "  release_date runtime                                   spoken_languages  \\\n",
       "0      2/20/15    93.0           [{'iso_639_1': 'en', 'name': 'English'}]   \n",
       "1       8/6/04   113.0           [{'iso_639_1': 'en', 'name': 'English'}]   \n",
       "2     10/10/14   105.0           [{'iso_639_1': 'en', 'name': 'English'}]   \n",
       "3       3/9/12   122.0  [{'iso_639_1': 'en', 'name': 'English'}, {'iso...   \n",
       "4       2/5/09   118.0           [{'iso_639_1': 'ko', 'name': '한국어/조선말'}]   \n",
       "\n",
       "     status                                            tagline  \\\n",
       "0  Released  The Laws of Space and Time are About to be Vio...   \n",
       "1  Released  It can take a lifetime to find true love; she'...   \n",
       "2  Released    The road to greatness can take you to the edge.   \n",
       "3  Released                                                NaN   \n",
       "4  Released                                                NaN   \n",
       "\n",
       "                                      title  \\\n",
       "0                    Hot Tub Time Machine 2   \n",
       "1  The Princess Diaries 2: Royal Engagement   \n",
       "2                                  Whiplash   \n",
       "3                                   Kahaani   \n",
       "4                                Marine Boy   \n",
       "\n",
       "                                            Keywords  \\\n",
       "0  [{'id': 4379, 'name': 'time travel'}, {'id': 9...   \n",
       "1  [{'id': 2505, 'name': 'coronation'}, {'id': 42...   \n",
       "2  [{'id': 1416, 'name': 'jazz'}, {'id': 1523, 'n...   \n",
       "3  [{'id': 10092, 'name': 'mystery'}, {'id': 1054...   \n",
       "4                                                NaN   \n",
       "\n",
       "                                                cast  \\\n",
       "0  [{'cast_id': 4, 'character': 'Lou', 'credit_id...   \n",
       "1  [{'cast_id': 1, 'character': 'Mia Thermopolis'...   \n",
       "2  [{'cast_id': 5, 'character': 'Andrew Neimann',...   \n",
       "3  [{'cast_id': 1, 'character': 'Vidya Bagchi', '...   \n",
       "4  [{'cast_id': 3, 'character': 'Chun-soo', 'cred...   \n",
       "\n",
       "                                                crew   revenue  \n",
       "0  [{'credit_id': '59ac067c92514107af02c8c8', 'de...  12314651  \n",
       "1  [{'credit_id': '52fe43fe9251416c7502563d', 'de...  95149435  \n",
       "2  [{'credit_id': '54d5356ec3a3683ba0000039', 'de...  13092000  \n",
       "3  [{'credit_id': '52fe48779251416c9108d6eb', 'de...  16000000  \n",
       "4  [{'credit_id': '52fe464b9251416c75073b43', 'de...   3923970  \n",
       "\n",
       "[5 rows x 23 columns]"
      ]
     },
     "execution_count": 47,
     "metadata": {},
     "output_type": "execute_result"
    }
   ],
   "source": [
    "full_df = pd.read_csv('../data/movie_revenues.csv')\n",
    "full_df.head()"
   ]
  },
  {
   "cell_type": "markdown",
   "metadata": {},
   "source": [
    "## Data Preparation\n",
    "\n",
    "Choose the desired predictors, construct more features prior to model training"
   ]
  },
  {
   "cell_type": "code",
   "execution_count": 48,
   "metadata": {},
   "outputs": [],
   "source": [
    "famous_directors = [\"David Fincher\", \"Martin Scorsese\", \"Quentin Tarantino\", \"Christopher Nolan\", \"Peter Jackson\", \"Tim Burton\", \"Clint Eastwood\", \"James Cameron\", \"Francis Ford Coppola\", \"Steven Spielberg\"]\n",
    "\n",
    "famous_actors = [\"Jack Nicholson\", \"Marlon Brando\", \"Robert De Niro\", \"Al Pacino\", \"Daniel Day-Lewis\", \"Dustin Hoffman\", \"Tom Hanks\", \"Paul Newman\", \"Denzel Washington\", \"Harrison Ford\", \"Brad Pitt\", \"George Clooney\", \"Matt Damon\", \"Gerard Butler\", \"Leonardo DiCaprio\", \"Tom Cruise\", \"Christian Bale\", \"Robert Downey Jr.\", \"Audrey Hepburn\", \"Meryl Streep\", \"Cate Blanchett\", \"Julianne Moore\", \"Jodie Foster\", \"Shirley MacLaine\", \"Susan Sarandon\", \"Jane Fonda\", \"Judi Dench\", \"Gwyneth Paltrow\", \"Angelina Jolie\", \"Kate Winslet\", \"Hilary Swank\", \"Helena Bonham Carter\", \"Nicole Kidman\", \"Uma Thurman\"]\n",
    "famous_companies = ['Disney', 'Marvel', 'Warner Bros.', 'Universal Pictures', 'Paramount Pictures', '20th Century Fox', 'Columbia Pictures', 'DreamWorks', 'Miramax', 'New Line Cinema', 'Pixar', 'Sony Pictures', 'Touchstone Pictures', 'United Artists', 'Village Roadshow Pictures' ,'Metro-Goldwyn-Mayer (MGM)' , 'Lionsgate' , 'Summit Entertainment' , 'Castle Rock Entertainment']\n",
    "\n",
    "genre_scores =    {\n",
    " 'Action': 5,\n",
    " 'Adventure': 5,\n",
    " 'Fantasy': 5,\n",
    " 'Science Fiction': 5,\n",
    "\n",
    " 'Animation': 4,\n",
    " 'Comedy': 4,\n",
    "\n",
    " 'Drama': 3,\n",
    " 'Thriller': 3,\n",
    " 'Crime': 3,\n",
    "\n",
    " 'Mystery': 2,\n",
    " 'Romance': 2,\n",
    "\n",
    " 'War': 1,\n",
    " 'Family': 1,\n",
    " 'History': 1,\n",
    " 'Western': 1,\n",
    " 'Horror': 1,\n",
    " 'Documentary': 1,\n",
    " 'Music': 1,\n",
    " 'Foreign': 1,\n",
    " 'TV Movie': 1\n",
    " }"
   ]
  },
  {
   "cell_type": "code",
   "execution_count": 49,
   "metadata": {
    "pycharm": {
     "name": "#%%\n"
    }
   },
   "outputs": [
    {
     "data": {
      "text/plain": [
       "array(['Comedy', 'Drama', 'Thriller', 'Action', 'Animation', 'Horror',\n",
       "       'Documentary', 'Adventure', 'Crime', 'Mystery', 'Fantasy', 'War',\n",
       "       'Science Fiction', 'Romance', 'Music', 'Western', 'Family',\n",
       "       'History', 'Foreign', 'TV Movie'], dtype=object)"
      ]
     },
     "execution_count": 49,
     "metadata": {},
     "output_type": "execute_result"
    }
   ],
   "source": [
    "outp = full_df[\"genres\"].dropna().apply(lambda x: eval(str(x))).apply(lambda x: x[0]['name']).unique()\n",
    "outp"
   ]
  },
  {
   "cell_type": "code",
   "execution_count": 50,
   "metadata": {},
   "outputs": [
    {
     "name": "stdout",
     "output_type": "stream",
     "text": [
      "(2991, 11)\n"
     ]
    },
    {
     "data": {
      "text/html": [
       "<div>\n",
       "<style scoped>\n",
       "    .dataframe tbody tr th:only-of-type {\n",
       "        vertical-align: middle;\n",
       "    }\n",
       "\n",
       "    .dataframe tbody tr th {\n",
       "        vertical-align: top;\n",
       "    }\n",
       "\n",
       "    .dataframe thead th {\n",
       "        text-align: right;\n",
       "    }\n",
       "</style>\n",
       "<table border=\"1\" class=\"dataframe\">\n",
       "  <thead>\n",
       "    <tr style=\"text-align: right;\">\n",
       "      <th></th>\n",
       "      <th>budget</th>\n",
       "      <th>is_english</th>\n",
       "      <th>runtime</th>\n",
       "      <th>popularity</th>\n",
       "      <th>genre_score</th>\n",
       "      <th>is_holiday</th>\n",
       "      <th>movie_age</th>\n",
       "      <th>actor_score</th>\n",
       "      <th>director_score</th>\n",
       "      <th>company_score</th>\n",
       "      <th>revenue</th>\n",
       "    </tr>\n",
       "  </thead>\n",
       "  <tbody>\n",
       "    <tr>\n",
       "      <th>0</th>\n",
       "      <td>14000000</td>\n",
       "      <td>1</td>\n",
       "      <td>93.0</td>\n",
       "      <td>6.575393</td>\n",
       "      <td>4.0</td>\n",
       "      <td>0</td>\n",
       "      <td>8</td>\n",
       "      <td>0</td>\n",
       "      <td>0</td>\n",
       "      <td>3</td>\n",
       "      <td>12314651</td>\n",
       "    </tr>\n",
       "    <tr>\n",
       "      <th>1</th>\n",
       "      <td>40000000</td>\n",
       "      <td>1</td>\n",
       "      <td>113.0</td>\n",
       "      <td>8.248895</td>\n",
       "      <td>4.0</td>\n",
       "      <td>1</td>\n",
       "      <td>19</td>\n",
       "      <td>0</td>\n",
       "      <td>0</td>\n",
       "      <td>1</td>\n",
       "      <td>95149435</td>\n",
       "    </tr>\n",
       "    <tr>\n",
       "      <th>2</th>\n",
       "      <td>3300000</td>\n",
       "      <td>1</td>\n",
       "      <td>105.0</td>\n",
       "      <td>64.299990</td>\n",
       "      <td>3.0</td>\n",
       "      <td>0</td>\n",
       "      <td>9</td>\n",
       "      <td>0</td>\n",
       "      <td>0</td>\n",
       "      <td>0</td>\n",
       "      <td>13092000</td>\n",
       "    </tr>\n",
       "    <tr>\n",
       "      <th>3</th>\n",
       "      <td>1200000</td>\n",
       "      <td>0</td>\n",
       "      <td>122.0</td>\n",
       "      <td>3.174936</td>\n",
       "      <td>3.0</td>\n",
       "      <td>0</td>\n",
       "      <td>11</td>\n",
       "      <td>0</td>\n",
       "      <td>0</td>\n",
       "      <td>0</td>\n",
       "      <td>16000000</td>\n",
       "    </tr>\n",
       "    <tr>\n",
       "      <th>4</th>\n",
       "      <td>0</td>\n",
       "      <td>0</td>\n",
       "      <td>118.0</td>\n",
       "      <td>1.148070</td>\n",
       "      <td>5.0</td>\n",
       "      <td>0</td>\n",
       "      <td>14</td>\n",
       "      <td>0</td>\n",
       "      <td>0</td>\n",
       "      <td>0</td>\n",
       "      <td>3923970</td>\n",
       "    </tr>\n",
       "  </tbody>\n",
       "</table>\n",
       "</div>"
      ],
      "text/plain": [
       "     budget  is_english  runtime  popularity  genre_score  is_holiday  \\\n",
       "0  14000000           1     93.0    6.575393          4.0           0   \n",
       "1  40000000           1    113.0    8.248895          4.0           1   \n",
       "2   3300000           1    105.0   64.299990          3.0           0   \n",
       "3   1200000           0    122.0    3.174936          3.0           0   \n",
       "4         0           0    118.0    1.148070          5.0           0   \n",
       "\n",
       "   movie_age  actor_score  director_score  company_score   revenue  \n",
       "0          8            0               0              3  12314651  \n",
       "1         19            0               0              1  95149435  \n",
       "2          9            0               0              0  13092000  \n",
       "3         11            0               0              0  16000000  \n",
       "4         14            0               0              0   3923970  "
      ]
     },
     "execution_count": 50,
     "metadata": {},
     "output_type": "execute_result"
    }
   ],
   "source": [
    "full_df['is_english'] = (full_df['original_language'] == 'en').astype(int)\n",
    "full_df['is_holiday'] = full_df['release_date'].apply(lambda x: int(x.split(\"/\")[0])).map(lambda x: 1 if 5 <= x <= 8 or 11 <= x <= 12 else 0)\n",
    "full_df['movie_age'] = full_df['release_date'].apply(lambda x: int(x.split(\"/\")[2])).apply(lambda x: 23 - x if x <= 23 else 123 - x)\n",
    "full_df['actor_score'] = full_df['cast'].apply(lambda x: sum(i in str(x) for i in famous_actors))\n",
    "full_df['director_score'] = full_df['crew'].apply(lambda x: sum(i in str(x) for i in famous_directors))\n",
    "full_df['company_score'] = full_df['production_companies'].apply(lambda x: sum(i in str(x) for i in famous_companies))\n",
    "full_df['genre_score'] = full_df[\"genres\"].dropna().apply(lambda x: eval(str(x))).apply(lambda x: x[0]['name']).map(genre_scores)\n",
    "\n",
    "# Make sure revenue is the last variable here as it is the target!\n",
    "variables = ['budget', 'is_english', 'runtime', 'popularity', 'genre_score', 'is_holiday', 'movie_age', 'actor_score', 'director_score', 'company_score', 'revenue']\n",
    "df = full_df[variables].dropna()\n",
    "target = 'revenue'\n",
    "print(df.shape)\n",
    "df.head()"
   ]
  },
  {
   "cell_type": "markdown",
   "metadata": {},
   "source": [
    "Note: `.dropna()` drops columns with NaN values. We can probably address this issue in better ways (i.e. mean imputation etc)\n",
    "\n",
    "## Train Model\n",
    "\n",
    "// Comment: De kserw an prepei na kanoume regression opws edeikse stis dialekseis h apla na paroume etoimh function. Pros to paron pairnw etoimh, esteila mail gia confirmation :)"
   ]
  },
  {
   "cell_type": "code",
   "execution_count": 51,
   "metadata": {},
   "outputs": [],
   "source": [
    "x = df.drop(target, axis='columns')\n",
    "y = df[target]\n",
    "\n",
    "x = sm.add_constant(x)\n",
    "\n",
    "model = sm.OLS(y, x).fit()"
   ]
  },
  {
   "cell_type": "markdown",
   "metadata": {},
   "source": [
    "## Compute R^2"
   ]
  },
  {
   "cell_type": "code",
   "execution_count": 52,
   "metadata": {},
   "outputs": [
    {
     "name": "stdout",
     "output_type": "stream",
     "text": [
      "Number of Predictors: 10\n",
      "n: 2991\n",
      "R^2: 0.6196896104590688\n",
      "R^2_adj: 0.6184134010981931\n"
     ]
    }
   ],
   "source": [
    "y_mean = df[target].mean()\n",
    "y_hat = model.predict(x)\n",
    "y = df[target]\n",
    "SS_res = sum((y - y_hat)**2)\n",
    "SS_tot = sum((y - y_mean)**2)\n",
    "\n",
    "R_squared = 1 - (SS_res / SS_tot)\n",
    "n, p = df.drop(target, axis='columns').shape\n",
    "print(f'Number of Predictors: {p}\\nn: {n}')\n",
    "R_adj = 1 - ((SS_res / SS_tot) * ((n - 1) / (n - p - 1)))\n",
    "\n",
    "print(f'R^2: {R_squared}\\nR^2_adj: {R_adj}')"
   ]
  },
  {
   "cell_type": "markdown",
   "metadata": {},
   "source": [
    "## Check multiple linear regression model conditions"
   ]
  },
  {
   "cell_type": "markdown",
   "metadata": {},
   "source": [
    "### 1) Nearly normal residuals"
   ]
  },
  {
   "cell_type": "markdown",
   "metadata": {},
   "source": [
    "We do a histogram of the frequency of the residuals and check if they appear to be nearly normally distributed"
   ]
  },
  {
   "cell_type": "code",
   "execution_count": 53,
   "metadata": {
    "scrolled": false
   },
   "outputs": [
    {
     "data": {
      "image/png": "[encoded data removed]",
      "text/plain": [
       "<Figure size 640x480 with 1 Axes>"
      ]
     },
     "metadata": {},
     "output_type": "display_data"
    }
   ],
   "source": [
    "residuals = y - y_hat\n",
    "plt.hist(residuals, bins=20, edgecolor='black')\n",
    "\n",
    "plt.title('Histogram of residuals frequency')\n",
    "plt.xlabel('Residuals')\n",
    "plt.ylabel('Frequency')\n",
    "plt.show()"
   ]
  },
  {
   "cell_type": "markdown",
   "metadata": {},
   "source": [
    "### 2) Constant variability in residuals"
   ]
  },
  {
   "cell_type": "code",
   "execution_count": 54,
   "metadata": {},
   "outputs": [
    {
     "data": {
      "image/png": "[encoded data removed]",
      "text/plain": [
       "<Figure size 800x500 with 2 Axes>"
      ]
     },
     "metadata": {},
     "output_type": "display_data"
    }
   ],
   "source": [
    "abs_residuals = abs(residuals)\n",
    "\n",
    "plt.figure(figsize=(8,5))\n",
    "\n",
    "plt.subplot(1,2,1)\n",
    "plt.scatter(y_hat, residuals)\n",
    "plt.xlabel('fitted')\n",
    "plt.ylabel('residuals')\n",
    "plt.title('Residuals vs. fitted')\n",
    "plt.tight_layout()\n",
    "\n",
    "plt.subplot(1,2,2)\n",
    "plt.scatter(y_hat, abs_residuals)\n",
    "plt.xlabel('fitted')\n",
    "plt.ylabel('abs(residuals)')\n",
    "plt.title('Absolute value of residuals vs. fitted')\n",
    "plt.tight_layout()\n",
    "\n",
    "plt.show()"
   ]
  },
  {
   "cell_type": "markdown",
   "metadata": {},
   "source": [
    "### 3) Independence of residuals\n",
    "Since our sample is independent our residuals will be too."
   ]
  },
  {
   "cell_type": "markdown",
   "metadata": {},
   "source": [
    "### 4) Each variable linearly related to the outcome"
   ]
  },
  {
   "cell_type": "code",
   "execution_count": 55,
   "metadata": {},
   "outputs": [
    {
     "data": {
      "image/png": "[encoded data removed]",
      "text/plain": [
       "<Figure size 800x500 with 4 Axes>"
      ]
     },
     "metadata": {},
     "output_type": "display_data"
    }
   ],
   "source": [
    "plt.figure(figsize=(8,5))\n",
    "\n",
    "plt.subplot(2,2,1)\n",
    "plt.scatter(df['budget'], residuals)\n",
    "plt.xlabel('budget')\n",
    "plt.ylabel('residuals')\n",
    "plt.title('Residuals vs. budget')\n",
    "plt.tight_layout()\n",
    "\n",
    "plt.subplot(2,2,2)\n",
    "plt.scatter(df['popularity'], residuals)\n",
    "plt.xlabel('popularity')\n",
    "plt.ylabel('residuals')\n",
    "plt.title('Residuals vs. budget')\n",
    "plt.tight_layout()\n",
    "\n",
    "plt.subplot(2,2,3)\n",
    "plt.scatter(df['runtime'], residuals)\n",
    "plt.xlabel('runtime')\n",
    "plt.ylabel('residuals')\n",
    "plt.title('Residuals vs. budget')\n",
    "plt.tight_layout()\n",
    "\n",
    "plt.subplot(2,2,4)\n",
    "plt.scatter(df['actor_score'], residuals)\n",
    "plt.xlabel('actor_score')\n",
    "plt.ylabel('residuals')\n",
    "plt.title('Residuals vs. budget')\n",
    "plt.tight_layout()\n",
    "\n",
    "plt.show()"
   ]
  },
  {
   "cell_type": "markdown",
   "metadata": {},
   "source": [
    "## Check the slope associated with the Budget Variable"
   ]
  },
  {
   "cell_type": "code",
   "execution_count": 56,
   "metadata": {
    "pycharm": {
     "name": "#%%\n"
    }
   },
   "outputs": [
    {
     "name": "stdout",
     "output_type": "stream",
     "text": [
      "                            OLS Regression Results                            \n",
      "==============================================================================\n",
      "Dep. Variable:                revenue   R-squared:                       0.620\n",
      "Model:                            OLS   Adj. R-squared:                  0.618\n",
      "Method:                 Least Squares   F-statistic:                     485.6\n",
      "Date:                Sat, 17 Jun 2023   Prob (F-statistic):               0.00\n",
      "Time:                        21:59:31   Log-Likelihood:                -58851.\n",
      "No. Observations:                2991   AIC:                         1.177e+05\n",
      "Df Residuals:                    2980   BIC:                         1.178e+05\n",
      "Df Model:                          10                                         \n",
      "Covariance Type:            nonrobust                                         \n",
      "==================================================================================\n",
      "                     coef    std err          t      P>|t|      [0.025      0.975]\n",
      "----------------------------------------------------------------------------------\n",
      "const          -2.759e+07   1.05e+07     -2.638      0.008   -4.81e+07   -7.09e+06\n",
      "budget             2.4519      0.054     45.498      0.000       2.346       2.558\n",
      "is_english     -7.266e+06   4.83e+06     -1.503      0.133   -1.67e+07    2.21e+06\n",
      "runtime         1.001e+05    7.5e+04      1.334      0.182    -4.7e+04    2.47e+05\n",
      "popularity      2.606e+06   1.38e+05     18.917      0.000    2.34e+06    2.88e+06\n",
      "genre_score      1.67e+05   1.29e+06      0.129      0.897   -2.36e+06     2.7e+06\n",
      "is_holiday      8.984e+06   3.19e+06      2.818      0.005    2.73e+06    1.52e+07\n",
      "movie_age       2.056e+05    1.1e+05      1.873      0.061   -9613.063    4.21e+05\n",
      "actor_score    -3.175e+06   3.91e+06     -0.811      0.417   -1.08e+07     4.5e+06\n",
      "director_score  3.713e+07    8.2e+06      4.528      0.000    2.11e+07    5.32e+07\n",
      "company_score   4.338e+06   3.03e+06      1.431      0.153   -1.61e+06    1.03e+07\n",
      "==============================================================================\n",
      "Omnibus:                     2028.965   Durbin-Watson:                   2.026\n",
      "Prob(Omnibus):                  0.000   Jarque-Bera (JB):            63313.653\n",
      "Skew:                           2.774   Prob(JB):                         0.00\n",
      "Kurtosis:                      24.846   Cond. No.                     3.02e+08\n",
      "==============================================================================\n",
      "\n",
      "Notes:\n",
      "[1] Standard Errors assume that the covariance matrix of the errors is correctly specified.\n",
      "[2] The condition number is large, 3.02e+08. This might indicate that there are\n",
      "strong multicollinearity or other numerical problems.\n"
     ]
    }
   ],
   "source": [
    "print(model.summary())"
   ]
  },
  {
   "cell_type": "markdown",
   "metadata": {},
   "source": [
    "## Find significant variables for predicting movie revenue\n",
    "\n",
    "We noticed that the condition number is large, which might indicate that there are strong multicollinearity problems between the variables. For this purpose we chose to deploy forward selection and backward elimination algorithms to select the most significant variables for predicting movie revenue."
   ]
  },
  {
   "cell_type": "markdown",
   "metadata": {},
   "source": [
    "## Step 1: Define statistical test"
   ]
  },
  {
   "cell_type": "code",
   "execution_count": 57,
   "metadata": {
    "pycharm": {
     "name": "#%%\n"
    }
   },
   "outputs": [
    {
     "ename": "ModuleNotFoundError",
     "evalue": "No module named 'causallearn'",
     "output_type": "error",
     "traceback": [
      "\u001b[0;31m---------------------------------------------------------------------------\u001b[0m",
      "\u001b[0;31mModuleNotFoundError\u001b[0m                       Traceback (most recent call last)",
      "Cell \u001b[0;32mIn[57], line 1\u001b[0m\n\u001b[0;32m----> 1\u001b[0m \u001b[38;5;28;01mfrom\u001b[39;00m \u001b[38;5;21;01mcausallearn\u001b[39;00m\u001b[38;5;21;01m.\u001b[39;00m\u001b[38;5;21;01mutils\u001b[39;00m\u001b[38;5;21;01m.\u001b[39;00m\u001b[38;5;21;01mcit\u001b[39;00m \u001b[38;5;28;01mimport\u001b[39;00m CIT\n\u001b[1;32m      3\u001b[0m \u001b[38;5;28;01mdef\u001b[39;00m \u001b[38;5;21mstat_test\u001b[39m(D, V_idx, T_idx, S\u001b[38;5;241m=\u001b[39m\u001b[38;5;28;01mNone\u001b[39;00m):\n\u001b[1;32m      4\u001b[0m     chi_obj \u001b[38;5;241m=\u001b[39m CIT(D, \u001b[38;5;124m\"\u001b[39m\u001b[38;5;124mfisherz\u001b[39m\u001b[38;5;124m\"\u001b[39m)  \u001b[38;5;66;03m# construct a Chi-Squared Test instance with data and method name\u001b[39;00m\n",
      "\u001b[0;31mModuleNotFoundError\u001b[0m: No module named 'causallearn'"
     ]
    }
   ],
   "source": [
    "from causallearn.utils.cit import CIT\n",
    "\n",
    "def stat_test(D, V_idx, T_idx, S=None):\n",
    "    chi_obj = CIT(D, \"fisherz\")  # construct a Chi-Squared Test instance with data and method name\n",
    "    pValue = chi_obj(V_idx, T_idx, S)\n",
    "    return pValue"
   ]
  },
  {
   "cell_type": "markdown",
   "metadata": {},
   "source": [
    "## Step 2: Define Forward Selection and Backward Deletion Algorithms"
   ]
  },
  {
   "cell_type": "code",
   "execution_count": 34,
   "metadata": {},
   "outputs": [],
   "source": [
    "def forward_selection(D, V_indices, T_idx, a, S=None):\n",
    "    \"\"\"\n",
    "    Forward Selection algorithm. Fills up set S with variables that are\n",
    "    highly correlated to the target variable.\n",
    "    :param D: Full Dataset\n",
    "    :param V_indices: Variable column indices\n",
    "    :param T_idx: Target variable column index\n",
    "    :param S: Previously selected Variables (optional)\n",
    "    :param a: Significance Threshold\n",
    "    :return S: Selected Variables\n",
    "    \"\"\"\n",
    "    flag = True\n",
    "    if S is None:\n",
    "        S = set()\n",
    "        R = V_indices\n",
    "    else:\n",
    "        R = V_indices.drop(S)\n",
    "    while flag:\n",
    "        flag = False\n",
    "        V_star, p_value = min(\n",
    "            [\n",
    "                (V_idx, stat_test(D=D.values, V_idx=V_idx, T_idx=T_idx, S=S))\n",
    "                for V_idx in R\n",
    "            ],\n",
    "            key=lambda x: x[1],\n",
    "        )\n",
    "        R = R.drop(V_star)\n",
    "        if p_value <= a:\n",
    "            S.add(V_star)\n",
    "            flag = True\n",
    "    return S\n",
    "\n",
    "def backward_elimination(D, T_idx, S, a):\n",
    "    \"\"\"\n",
    "    Backward Elimination algorithm. Essentially discards variables from set S that\n",
    "    are not important to the target index, given the rest of the set S.\n",
    "    :param D: Full Dataset\n",
    "    :param T_idx: Target variable index\n",
    "    :param S: Previously Selected Variables\n",
    "    :param a: Significance Threshold\n",
    "    :return S: Selected Variables\n",
    "    \"\"\"\n",
    "    flag = len(S) > 0\n",
    "    while flag:\n",
    "        flag = False\n",
    "        V_star, p_value = max(\n",
    "            [\n",
    "                (\n",
    "                    V_idx,\n",
    "                    stat_test(\n",
    "                        D=D.values, V_idx=V_idx, T_idx=T_idx, S=S.difference({V_idx})\n",
    "                    ),\n",
    "                )\n",
    "                for V_idx in S\n",
    "            ],\n",
    "            key=lambda x: x[1],\n",
    "        )\n",
    "        if p_value > a:\n",
    "            S.remove(V_star)\n",
    "            flag = True\n",
    "    return S"
   ]
  },
  {
   "cell_type": "markdown",
   "metadata": {},
   "source": [
    "## Step 3: Apply Separately Forward and Backward Algorithms\n",
    "\n",
    "Forward Selection:"
   ]
  },
  {
   "cell_type": "code",
   "execution_count": 35,
   "metadata": {
    "pycharm": {
     "name": "#%%\n"
    }
   },
   "outputs": [],
   "source": [
    "a = 0.05 # significance level\n",
    "\n",
    "# Remove column names to apply feature selection\n",
    "df.columns = range(df.shape[1])\n",
    "\n",
    "x_cols = df.columns[:-1]\n",
    "y_col = df.columns[-1]"
   ]
  },
  {
   "cell_type": "code",
   "execution_count": 36,
   "metadata": {
    "pycharm": {
     "name": "#%%\n"
    }
   },
   "outputs": [
    {
     "data": {
      "text/plain": [
       "['budget', 'popularity', 'is_holiday', 'movie_age', 'director_score']"
      ]
     },
     "execution_count": 36,
     "metadata": {},
     "output_type": "execute_result"
    }
   ],
   "source": [
    "forward_selected_vars = forward_selection(D=df, V_indices=x_cols, T_idx=y_col, a=a)\n",
    "forward_selected_vars = [variables[i] for i in forward_selected_vars]\n",
    "forward_selected_vars"
   ]
  },
  {
   "cell_type": "markdown",
   "metadata": {},
   "source": [
    "Backward Elimination:"
   ]
  },
  {
   "cell_type": "code",
   "execution_count": 37,
   "metadata": {
    "pycharm": {
     "name": "#%%\n"
    }
   },
   "outputs": [
    {
     "data": {
      "text/plain": [
       "['budget', 'popularity', 'is_holiday', 'movie_age', 'director_score']"
      ]
     },
     "execution_count": 37,
     "metadata": {},
     "output_type": "execute_result"
    }
   ],
   "source": [
    "backward_selected_vars = backward_elimination(D=df, T_idx=y_col, S = set(x_cols), a=a)\n",
    "backward_selected_vars = [variables[i] for i in backward_selected_vars]\n",
    "backward_selected_vars"
   ]
  },
  {
   "cell_type": "markdown",
   "metadata": {},
   "source": [
    "## Extra step 4: Apply Forward-Backward variable selection\n",
    "\n",
    "We may also apply forward-backward feature selection algorithm, where you essentially apply forward selection to the full dataset and backward elimination on the selected variables of the forward step, to also see our results"
   ]
  },
  {
   "cell_type": "code",
   "execution_count": 38,
   "metadata": {
    "pycharm": {
     "name": "#%%\n"
    }
   },
   "outputs": [
    {
     "data": {
      "text/plain": [
       "['budget', 'popularity', 'is_holiday', 'movie_age', 'director_score']"
      ]
     },
     "execution_count": 38,
     "metadata": {},
     "output_type": "execute_result"
    }
   ],
   "source": [
    "S = forward_selection(D=df, V_indices=x_cols, T_idx=y_col, a=a)\n",
    "selected_vars = backward_elimination(D=df, T_idx=y_col, S=S, a=a)\n",
    "selected_vars = [variables[i] for i in selected_vars]\n",
    "selected_vars"
   ]
  }
 ],
 "metadata": {
  "kernelspec": {
   "display_name": "Python 3 (ipykernel)",
   "language": "python",
   "name": "python3"
  },
  "language_info": {
   "codemirror_mode": {
    "name": "ipython",
    "version": 3
   },
   "file_extension": ".py",
   "mimetype": "text/x-python",
   "name": "python",
   "nbconvert_exporter": "python",
   "pygments_lexer": "ipython3",
   "version": "3.11.2"
  }
 },
 "nbformat": 4,
 "nbformat_minor": 1
}
