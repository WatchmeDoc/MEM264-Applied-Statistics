{
 "cells": [
  {
   "cell_type": "markdown",
   "source": [
    "<div align=\"center\">\n",
    "\n",
    "# University of Crete\n",
    "# Department of Applied Mathematics\n",
    "\n",
    "## MEM-264: Applied Statistics\n",
    "### Spring Semester 2022-2023\n",
    "#### Authors:\n",
    "#### Theodoros Chalkidis, csd4198@csd.uoc.gr\n",
    "#### George Manos, csd4333@csd.uoc.gr\n",
    "#### Christos Zarkos csd4516@csd.uoc.gr"
   ],
   "metadata": {
    "collapsed": false
   }
  },
  {
   "cell_type": "markdown",
   "source": [
    "## Imports"
   ],
   "metadata": {
    "collapsed": false
   }
  },
  {
   "cell_type": "code",
   "execution_count": 1,
   "metadata": {
    "collapsed": true
   },
   "outputs": [],
   "source": [
    "import pandas as pd\n",
    "import statsmodels.api as sm"
   ]
  },
  {
   "cell_type": "markdown",
   "source": [
    "## Read Data"
   ],
   "metadata": {
    "collapsed": false
   }
  },
  {
   "cell_type": "code",
   "execution_count": 33,
   "outputs": [
    {
     "data": {
      "text/plain": "    id                              belongs_to_collection     budget  \\\n22  23  [{'id': 207621, 'name': 'V/H/S Collection', 'p...          0   \n40  41  [{'id': 376970, 'name': 'Cocaine Cowboys', 'po...          0   \n46  47  [{'id': 8354, 'name': 'Ice Age Collection', 'p...   80000000   \n60  61  [{'id': 645, 'name': 'James Bond Collection', ...  150000000   \n69  70  [{'id': 9485, 'name': 'The Fast and the Furiou...   85000000   \n\n                                               genres  \\\n22  [{'id': 53, 'name': 'Thriller'}, {'id': 27, 'n...   \n40  [{'id': 28, 'name': 'Action'}, {'id': 99, 'nam...   \n46  [{'id': 16, 'name': 'Animation'}, {'id': 10751...   \n60  [{'id': 12, 'name': 'Adventure'}, {'id': 28, '...   \n69  [{'id': 28, 'name': 'Action'}, {'id': 80, 'nam...   \n\n                                             homepage    imdb_id  \\\n22                http://www.magnetreleasing.com/vhs/  tt2105044   \n40  http://www.magpictures.com/profile.aspx?id=983...  tt0380268   \n46  http://www.iceagemovies.com/films/ice-age-the-...  tt0438097   \n60  http://www.mgm.com/#/our-titles/233/Casino-Roy...  tt0381061   \n69              http://www.thefastandthefurious3.com/  tt0463985   \n\n   original_language                         original_title  \\\n22                en                                  V/H/S   \n40                en                        Cocaine Cowboys   \n46                en                  Ice Age: The Meltdown   \n60                en                          Casino Royale   \n69                en  The Fast and the Furious: Tokyo Drift   \n\n                                             overview  popularity  ...  \\\n22  When a group of misfits is hired by an unknown...    7.820787  ...   \n40  In the 1980s, ruthless Colombian cocaine baron...    2.941626  ...   \n46  Diego, Manny and Sid return in this sequel to ...   16.646029  ...   \n60  Le Chiffre, a banker to the world's terrorists...   23.065078  ...   \n69  In order to avoid a jail sentence, Sean Boswel...    2.238808  ...   \n\n   release_date runtime                                   spoken_languages  \\\n22      7/28/12   116.0           [{'iso_639_1': 'en', 'name': 'English'}]   \n40      4/26/06   118.0           [{'iso_639_1': 'en', 'name': 'English'}]   \n46      3/23/06    91.0           [{'iso_639_1': 'en', 'name': 'English'}]   \n60     11/14/06   144.0  [{'iso_639_1': 'en', 'name': 'English'}, {'iso...   \n69       6/3/06   104.0  [{'iso_639_1': 'en', 'name': 'English'}, {'iso...   \n\n      status                                            tagline  \\\n22  Released                         This collection is killer.   \n40  Released  How Miami became the cocaine capital of the Un...   \n46  Released                       The Ice age is melting away.   \n60  Released  Everyone has a past. Every legend has a beginn...   \n69  Released  On the streets of Tokyo, speed needs no transl...   \n\n                                    title  \\\n22                                  V/H/S   \n40                        Cocaine Cowboys   \n46                  Ice Age: The Meltdown   \n60                          Casino Royale   \n69  The Fast and the Furious: Tokyo Drift   \n\n                                             Keywords  \\\n22  [{'id': 6435, 'name': 'webcam'}, {'id': 9706, ...   \n40  [{'id': 2150, 'name': 'cocaine'}, {'id': 2231,...   \n46  [{'id': 2078, 'name': 'mammoth'}, {'id': 2079,...   \n60  [{'id': 131, 'name': 'italy'}, {'id': 383, 'na...   \n69  [{'id': 830, 'name': 'car race'}, {'id': 1926,...   \n\n                                                 cast  \\\n22  [{'cast_id': 1, 'character': 'Gary', 'credit_i...   \n40  [{'cast_id': 2, 'character': 'Himself', 'credi...   \n46  [{'cast_id': 1, 'character': 'Manny (voice)', ...   \n60  [{'cast_id': 1, 'character': 'James Bond', 'cr...   \n69  [{'cast_id': 12, 'character': 'Sean Boswell', ...   \n\n                                                 crew    revenue  \n22  [{'credit_id': '52fe48ee9251416c9109d113', 'de...     100345  \n40  [{'credit_id': '52fe46179251416c7506cc15', 'de...     163000  \n46  [{'credit_id': '52fe4292c3a36847f80292c9', 'de...  660940780  \n60  [{'credit_id': '53ac1fd7c3a3684bc8001908', 'de...  599045960  \n69  [{'credit_id': '56784ed792514111900002c8', 'de...  158468292  \n\n[5 rows x 23 columns]",
      "text/html": "<div>\n<style scoped>\n    .dataframe tbody tr th:only-of-type {\n        vertical-align: middle;\n    }\n\n    .dataframe tbody tr th {\n        vertical-align: top;\n    }\n\n    .dataframe thead th {\n        text-align: right;\n    }\n</style>\n<table border=\"1\" class=\"dataframe\">\n  <thead>\n    <tr style=\"text-align: right;\">\n      <th></th>\n      <th>id</th>\n      <th>belongs_to_collection</th>\n      <th>budget</th>\n      <th>genres</th>\n      <th>homepage</th>\n      <th>imdb_id</th>\n      <th>original_language</th>\n      <th>original_title</th>\n      <th>overview</th>\n      <th>popularity</th>\n      <th>...</th>\n      <th>release_date</th>\n      <th>runtime</th>\n      <th>spoken_languages</th>\n      <th>status</th>\n      <th>tagline</th>\n      <th>title</th>\n      <th>Keywords</th>\n      <th>cast</th>\n      <th>crew</th>\n      <th>revenue</th>\n    </tr>\n  </thead>\n  <tbody>\n    <tr>\n      <th>22</th>\n      <td>23</td>\n      <td>[{'id': 207621, 'name': 'V/H/S Collection', 'p...</td>\n      <td>0</td>\n      <td>[{'id': 53, 'name': 'Thriller'}, {'id': 27, 'n...</td>\n      <td>http://www.magnetreleasing.com/vhs/</td>\n      <td>tt2105044</td>\n      <td>en</td>\n      <td>V/H/S</td>\n      <td>When a group of misfits is hired by an unknown...</td>\n      <td>7.820787</td>\n      <td>...</td>\n      <td>7/28/12</td>\n      <td>116.0</td>\n      <td>[{'iso_639_1': 'en', 'name': 'English'}]</td>\n      <td>Released</td>\n      <td>This collection is killer.</td>\n      <td>V/H/S</td>\n      <td>[{'id': 6435, 'name': 'webcam'}, {'id': 9706, ...</td>\n      <td>[{'cast_id': 1, 'character': 'Gary', 'credit_i...</td>\n      <td>[{'credit_id': '52fe48ee9251416c9109d113', 'de...</td>\n      <td>100345</td>\n    </tr>\n    <tr>\n      <th>40</th>\n      <td>41</td>\n      <td>[{'id': 376970, 'name': 'Cocaine Cowboys', 'po...</td>\n      <td>0</td>\n      <td>[{'id': 28, 'name': 'Action'}, {'id': 99, 'nam...</td>\n      <td>http://www.magpictures.com/profile.aspx?id=983...</td>\n      <td>tt0380268</td>\n      <td>en</td>\n      <td>Cocaine Cowboys</td>\n      <td>In the 1980s, ruthless Colombian cocaine baron...</td>\n      <td>2.941626</td>\n      <td>...</td>\n      <td>4/26/06</td>\n      <td>118.0</td>\n      <td>[{'iso_639_1': 'en', 'name': 'English'}]</td>\n      <td>Released</td>\n      <td>How Miami became the cocaine capital of the Un...</td>\n      <td>Cocaine Cowboys</td>\n      <td>[{'id': 2150, 'name': 'cocaine'}, {'id': 2231,...</td>\n      <td>[{'cast_id': 2, 'character': 'Himself', 'credi...</td>\n      <td>[{'credit_id': '52fe46179251416c7506cc15', 'de...</td>\n      <td>163000</td>\n    </tr>\n    <tr>\n      <th>46</th>\n      <td>47</td>\n      <td>[{'id': 8354, 'name': 'Ice Age Collection', 'p...</td>\n      <td>80000000</td>\n      <td>[{'id': 16, 'name': 'Animation'}, {'id': 10751...</td>\n      <td>http://www.iceagemovies.com/films/ice-age-the-...</td>\n      <td>tt0438097</td>\n      <td>en</td>\n      <td>Ice Age: The Meltdown</td>\n      <td>Diego, Manny and Sid return in this sequel to ...</td>\n      <td>16.646029</td>\n      <td>...</td>\n      <td>3/23/06</td>\n      <td>91.0</td>\n      <td>[{'iso_639_1': 'en', 'name': 'English'}]</td>\n      <td>Released</td>\n      <td>The Ice age is melting away.</td>\n      <td>Ice Age: The Meltdown</td>\n      <td>[{'id': 2078, 'name': 'mammoth'}, {'id': 2079,...</td>\n      <td>[{'cast_id': 1, 'character': 'Manny (voice)', ...</td>\n      <td>[{'credit_id': '52fe4292c3a36847f80292c9', 'de...</td>\n      <td>660940780</td>\n    </tr>\n    <tr>\n      <th>60</th>\n      <td>61</td>\n      <td>[{'id': 645, 'name': 'James Bond Collection', ...</td>\n      <td>150000000</td>\n      <td>[{'id': 12, 'name': 'Adventure'}, {'id': 28, '...</td>\n      <td>http://www.mgm.com/#/our-titles/233/Casino-Roy...</td>\n      <td>tt0381061</td>\n      <td>en</td>\n      <td>Casino Royale</td>\n      <td>Le Chiffre, a banker to the world's terrorists...</td>\n      <td>23.065078</td>\n      <td>...</td>\n      <td>11/14/06</td>\n      <td>144.0</td>\n      <td>[{'iso_639_1': 'en', 'name': 'English'}, {'iso...</td>\n      <td>Released</td>\n      <td>Everyone has a past. Every legend has a beginn...</td>\n      <td>Casino Royale</td>\n      <td>[{'id': 131, 'name': 'italy'}, {'id': 383, 'na...</td>\n      <td>[{'cast_id': 1, 'character': 'James Bond', 'cr...</td>\n      <td>[{'credit_id': '53ac1fd7c3a3684bc8001908', 'de...</td>\n      <td>599045960</td>\n    </tr>\n    <tr>\n      <th>69</th>\n      <td>70</td>\n      <td>[{'id': 9485, 'name': 'The Fast and the Furiou...</td>\n      <td>85000000</td>\n      <td>[{'id': 28, 'name': 'Action'}, {'id': 80, 'nam...</td>\n      <td>http://www.thefastandthefurious3.com/</td>\n      <td>tt0463985</td>\n      <td>en</td>\n      <td>The Fast and the Furious: Tokyo Drift</td>\n      <td>In order to avoid a jail sentence, Sean Boswel...</td>\n      <td>2.238808</td>\n      <td>...</td>\n      <td>6/3/06</td>\n      <td>104.0</td>\n      <td>[{'iso_639_1': 'en', 'name': 'English'}, {'iso...</td>\n      <td>Released</td>\n      <td>On the streets of Tokyo, speed needs no transl...</td>\n      <td>The Fast and the Furious: Tokyo Drift</td>\n      <td>[{'id': 830, 'name': 'car race'}, {'id': 1926,...</td>\n      <td>[{'cast_id': 12, 'character': 'Sean Boswell', ...</td>\n      <td>[{'credit_id': '56784ed792514111900002c8', 'de...</td>\n      <td>158468292</td>\n    </tr>\n  </tbody>\n</table>\n<p>5 rows × 23 columns</p>\n</div>"
     },
     "execution_count": 33,
     "metadata": {},
     "output_type": "execute_result"
    }
   ],
   "source": [
    "full_df = pd.read_csv('../data/movie_revenues.csv').dropna()\n",
    "\n",
    "full_df.head()"
   ],
   "metadata": {
    "collapsed": false
   }
  },
  {
   "cell_type": "markdown",
   "source": [
    "## Data Preparation\n",
    "\n",
    "Choose the desired predictors, construct more features prior to model training"
   ],
   "metadata": {
    "collapsed": false
   }
  },
  {
   "cell_type": "code",
   "execution_count": 3,
   "outputs": [],
   "source": [
    "famous_directors = [\"David Fincher\", \"Martin Scorsese\", \"Quentin Tarantino\", \"Christopher Nolan\", \"Peter Jackson\", \"Tim Burton\", \"Clint Eastwood\", \"James Cameron\", \"Francis Ford Coppola\", \"Steven Spielberg\"]\n",
    "\n",
    "famous_actors = [\"Jack Nicholson\", \"Marlon Brando\", \"Robert De Niro\", \"Al Pacino\", \"Daniel Day-Lewis\", \"Dustin Hoffman\", \"Tom Hanks\", \"Paul Newman\", \"Denzel Washington\", \"Harrison Ford\", \"Brad Pitt\", \"George Clooney\", \"Matt Damon\", \"Gerard Butler\", \"Leonardo DiCaprio\", \"Tom Cruise\", \"Christian Bale\", \"Robert Downey Jr.\", \"Audrey Hepburn\", \"Meryl Streep\", \"Cate Blanchett\", \"Julianne Moore\", \"Jodie Foster\", \"Shirley MacLaine\", \"Susan Sarandon\", \"Jane Fonda\", \"Judi Dench\", \"Gwyneth Paltrow\", \"Angelina Jolie\", \"Kate Winslet\", \"Hilary Swank\", \"Helena Bonham Carter\", \"Nicole Kidman\", \"Uma Thurman\"]\n",
    "famous_companies = ['Disney', 'Marvel', 'Warner Bros.', 'Universal Pictures', 'Paramount Pictures', '20th Century Fox', 'Columbia Pictures', 'DreamWorks', 'Miramax', 'New Line Cinema', 'Pixar', 'Sony Pictures', 'Touchstone Pictures', 'United Artists', 'Village Roadshow Pictures' ,'Metro-Goldwyn-Mayer (MGM)' , 'Lionsgate' , 'Summit Entertainment' , 'Castle Rock Entertainment']"
   ],
   "metadata": {
    "collapsed": false
   }
  },
  {
   "cell_type": "code",
   "execution_count": 4,
   "outputs": [
    {
     "data": {
      "text/plain": "     budget  is_english  runtime  popularity  is_summer  movie_age  \\\n0  14000000           1     93.0    6.575393          0          8   \n1  40000000           1    113.0    8.248895          1         19   \n2   3300000           1    105.0   64.299990          0          9   \n3   1200000           0    122.0    3.174936          0         11   \n4         0           0    118.0    1.148070          0         14   \n\n   actor_score  director_score  company_score   revenue  \n0            0               0              0  12314651  \n1            0               0              1  95149435  \n2            0               0              0  13092000  \n3            0               0              0  16000000  \n4            0               0              0   3923970  ",
      "text/html": "<div>\n<style scoped>\n    .dataframe tbody tr th:only-of-type {\n        vertical-align: middle;\n    }\n\n    .dataframe tbody tr th {\n        vertical-align: top;\n    }\n\n    .dataframe thead th {\n        text-align: right;\n    }\n</style>\n<table border=\"1\" class=\"dataframe\">\n  <thead>\n    <tr style=\"text-align: right;\">\n      <th></th>\n      <th>budget</th>\n      <th>is_english</th>\n      <th>runtime</th>\n      <th>popularity</th>\n      <th>is_summer</th>\n      <th>movie_age</th>\n      <th>actor_score</th>\n      <th>director_score</th>\n      <th>company_score</th>\n      <th>revenue</th>\n    </tr>\n  </thead>\n  <tbody>\n    <tr>\n      <th>0</th>\n      <td>14000000</td>\n      <td>1</td>\n      <td>93.0</td>\n      <td>6.575393</td>\n      <td>0</td>\n      <td>8</td>\n      <td>0</td>\n      <td>0</td>\n      <td>0</td>\n      <td>12314651</td>\n    </tr>\n    <tr>\n      <th>1</th>\n      <td>40000000</td>\n      <td>1</td>\n      <td>113.0</td>\n      <td>8.248895</td>\n      <td>1</td>\n      <td>19</td>\n      <td>0</td>\n      <td>0</td>\n      <td>1</td>\n      <td>95149435</td>\n    </tr>\n    <tr>\n      <th>2</th>\n      <td>3300000</td>\n      <td>1</td>\n      <td>105.0</td>\n      <td>64.299990</td>\n      <td>0</td>\n      <td>9</td>\n      <td>0</td>\n      <td>0</td>\n      <td>0</td>\n      <td>13092000</td>\n    </tr>\n    <tr>\n      <th>3</th>\n      <td>1200000</td>\n      <td>0</td>\n      <td>122.0</td>\n      <td>3.174936</td>\n      <td>0</td>\n      <td>11</td>\n      <td>0</td>\n      <td>0</td>\n      <td>0</td>\n      <td>16000000</td>\n    </tr>\n    <tr>\n      <th>4</th>\n      <td>0</td>\n      <td>0</td>\n      <td>118.0</td>\n      <td>1.148070</td>\n      <td>0</td>\n      <td>14</td>\n      <td>0</td>\n      <td>0</td>\n      <td>0</td>\n      <td>3923970</td>\n    </tr>\n  </tbody>\n</table>\n</div>"
     },
     "execution_count": 4,
     "metadata": {},
     "output_type": "execute_result"
    }
   ],
   "source": [
    "full_df['is_english'] = (full_df['original_language'] == 'en').astype(int)\n",
    "full_df['is_summer'] = full_df['release_date'].apply(lambda x: int(x.split(\"/\")[0])).between(6, 9).astype(int)\n",
    "full_df['movie_age'] = full_df['release_date'].apply(lambda x: int(x.split(\"/\")[2])).apply(lambda x: 23 - x if x <= 23 else 123 - x)\n",
    "full_df['actor_score'] = full_df['cast'].apply(lambda x: sum(i in str(x) for i in famous_actors))\n",
    "full_df['director_score'] = full_df['crew'].apply(lambda x: sum(i in str(x) for i in famous_directors))\n",
    "full_df['company_score'] = full_df['production_companies'].apply(lambda x: sum(i in str(x) for i in famous_companies))\n",
    "\n",
    "# Make sure revenue is the last variable here as it is the target!\n",
    "variables = ['budget', 'is_english', 'runtime', 'popularity', 'is_summer', 'movie_age', 'actor_score', 'director_score', 'company_score', 'revenue']\n",
    "df = full_df[variables].dropna()\n",
    "target = 'revenue'\n",
    "df.head()"
   ],
   "metadata": {
    "collapsed": false
   }
  },
  {
   "cell_type": "markdown",
   "source": [
    "Note: `.dropna()` drops columns with NaN values. We can probably address this issue in better ways (i.e. mean imputation etc)\n",
    "\n",
    "## Train Model\n",
    "\n",
    "// Comment: De kserw an prepei na kanoume regression opws edeikse stis dialekseis h apla na paroume etoimh function. Pros to paron pairnw etoimh, esteila mail gia confirmation :)"
   ],
   "metadata": {
    "collapsed": false
   }
  },
  {
   "cell_type": "code",
   "execution_count": 5,
   "outputs": [],
   "source": [
    "x = df.drop(target, axis='columns')\n",
    "y = df[target]\n",
    "\n",
    "x = sm.add_constant(x)\n",
    "\n",
    "model = sm.OLS(y, x).fit()"
   ],
   "metadata": {
    "collapsed": false
   }
  },
  {
   "cell_type": "markdown",
   "source": [
    "## Compute R^2"
   ],
   "metadata": {
    "collapsed": false
   }
  },
  {
   "cell_type": "code",
   "execution_count": 6,
   "outputs": [
    {
     "name": "stdout",
     "output_type": "stream",
     "text": [
      "Number of Predictors: 9\n",
      "n: 2998\n",
      "R^2: 0.6212085029675737\n",
      "R^2_adj: 0.6200675647235001\n"
     ]
    }
   ],
   "source": [
    "y_mean = df[target].mean()\n",
    "y_hat = model.predict(x)\n",
    "y = df[target]\n",
    "SS_res = sum((y - y_hat)**2)\n",
    "SS_tot = sum((y - y_mean)**2)\n",
    "\n",
    "R_squared = 1 - (SS_res / SS_tot)\n",
    "n, p = df.drop(target, axis='columns').shape\n",
    "print(f'Number of Predictors: {p}\\nn: {n}')\n",
    "R_adj = 1 - ((SS_res / SS_tot) * ((n - 1) / (n - p - 1)))\n",
    "\n",
    "print(f'R^2: {R_squared}\\nR^2_adj: {R_adj}')"
   ],
   "metadata": {
    "collapsed": false
   }
  },
  {
   "cell_type": "markdown",
   "source": [
    "## Check the slope associated with the Budget Variable"
   ],
   "metadata": {
    "collapsed": false
   }
  },
  {
   "cell_type": "code",
   "execution_count": 7,
   "outputs": [
    {
     "name": "stdout",
     "output_type": "stream",
     "text": [
      "                            OLS Regression Results                            \n",
      "==============================================================================\n",
      "Dep. Variable:                revenue   R-squared:                       0.621\n",
      "Model:                            OLS   Adj. R-squared:                  0.620\n",
      "Method:                 Least Squares   F-statistic:                     544.5\n",
      "Date:                Sat, 17 Jun 2023   Prob (F-statistic):               0.00\n",
      "Time:                        17:55:30   Log-Likelihood:                -58980.\n",
      "No. Observations:                2998   AIC:                         1.180e+05\n",
      "Df Residuals:                    2988   BIC:                         1.180e+05\n",
      "Df Model:                           9                                         \n",
      "Covariance Type:            nonrobust                                         \n",
      "==================================================================================\n",
      "                     coef    std err          t      P>|t|      [0.025      0.975]\n",
      "----------------------------------------------------------------------------------\n",
      "const          -2.865e+07   9.44e+06     -3.035      0.002   -4.72e+07   -1.01e+07\n",
      "budget             2.4424      0.050     48.588      0.000       2.344       2.541\n",
      "is_english     -6.697e+06   4.72e+06     -1.419      0.156    -1.6e+07    2.56e+06\n",
      "runtime         1.403e+05   7.48e+04      1.875      0.061   -6427.861    2.87e+05\n",
      "popularity      2.565e+06   1.37e+05     18.662      0.000     2.3e+06    2.83e+06\n",
      "is_summer       2.591e+06   3.24e+06      0.799      0.424   -3.77e+06    8.95e+06\n",
      "movie_age       2.546e+05   1.06e+05      2.394      0.017    4.61e+04    4.63e+05\n",
      "actor_score    -1.785e+06    3.9e+06     -0.458      0.647   -9.43e+06    5.86e+06\n",
      "director_score  4.005e+07   8.17e+06      4.906      0.000     2.4e+07    5.61e+07\n",
      "company_score   4.665e+07   1.04e+07      4.474      0.000    2.62e+07    6.71e+07\n",
      "==============================================================================\n",
      "Omnibus:                     2037.782   Durbin-Watson:                   2.027\n",
      "Prob(Omnibus):                  0.000   Jarque-Bera (JB):            63795.881\n",
      "Skew:                           2.782   Prob(JB):                         0.00\n",
      "Kurtosis:                      24.903   Cond. No.                     2.95e+08\n",
      "==============================================================================\n",
      "\n",
      "Notes:\n",
      "[1] Standard Errors assume that the covariance matrix of the errors is correctly specified.\n",
      "[2] The condition number is large, 2.95e+08. This might indicate that there are\n",
      "strong multicollinearity or other numerical problems.\n"
     ]
    }
   ],
   "source": [
    "print(model.summary())"
   ],
   "metadata": {
    "collapsed": false,
    "pycharm": {
     "name": "#%%\n"
    }
   }
  },
  {
   "cell_type": "markdown",
   "source": [
    "## Find significant variables for predicting movie revenue\n",
    "\n",
    "We noticed that the condition number is large, which might indicate that there are strong multicollinearity problems between the variables. For this purpose we chose to deploy forward selection and backward elimination algorithms to select the most significant variables for predicting movie revenue."
   ],
   "metadata": {
    "collapsed": false
   }
  },
  {
   "cell_type": "markdown",
   "source": [
    "## Step 1: Define statistical test"
   ],
   "metadata": {
    "collapsed": false
   }
  },
  {
   "cell_type": "code",
   "execution_count": 8,
   "outputs": [],
   "source": [
    "from causallearn.utils.cit import CIT\n",
    "\n",
    "def stat_test(D, V_idx, T_idx, S=None):\n",
    "    chi_obj = CIT(D, \"fisherz\")  # construct a Chi-Squared Test instance with data and method name\n",
    "    pValue = chi_obj(V_idx, T_idx, S)\n",
    "    return pValue"
   ],
   "metadata": {
    "collapsed": false,
    "pycharm": {
     "name": "#%%\n"
    }
   }
  },
  {
   "cell_type": "markdown",
   "source": [
    "## Step 2: Define Forward Selection and Backward Deletion Algorithms"
   ],
   "metadata": {
    "collapsed": false
   }
  },
  {
   "cell_type": "code",
   "execution_count": 9,
   "outputs": [],
   "source": [
    "def forward_selection(D, V_indices, T_idx, a, S=None):\n",
    "    \"\"\"\n",
    "    Forward Selection algorithm. Fills up set S with variables that are\n",
    "    highly correlated to the target variable.\n",
    "    :param D: Full Dataset\n",
    "    :param V_indices: Variable column indices\n",
    "    :param T_idx: Target variable column index\n",
    "    :param S: Previously selected Variables (optional)\n",
    "    :param a: Significance Threshold\n",
    "    :return S: Selected Variables\n",
    "    \"\"\"\n",
    "    flag = True\n",
    "    if S is None:\n",
    "        S = set()\n",
    "        R = V_indices\n",
    "    else:\n",
    "        R = V_indices.drop(S)\n",
    "    while flag:\n",
    "        flag = False\n",
    "        V_star, p_value = min(\n",
    "            [\n",
    "                (V_idx, stat_test(D=D.values, V_idx=V_idx, T_idx=T_idx, S=S))\n",
    "                for V_idx in R\n",
    "            ],\n",
    "            key=lambda x: x[1],\n",
    "        )\n",
    "        R = R.drop(V_star)\n",
    "        if p_value <= a:\n",
    "            S.add(V_star)\n",
    "            flag = True\n",
    "    return S\n",
    "\n",
    "def backward_elimination(D, T_idx, S, a):\n",
    "    \"\"\"\n",
    "    Backward Elimination algorithm. Essentially discards variables from set S that\n",
    "    are not important to the target index, given the rest of the set S.\n",
    "    :param D: Full Dataset\n",
    "    :param T_idx: Target variable index\n",
    "    :param S: Previously Selected Variables\n",
    "    :param a: Significance Threshold\n",
    "    :return S: Selected Variables\n",
    "    \"\"\"\n",
    "    flag = len(S) > 0\n",
    "    while flag:\n",
    "        flag = False\n",
    "        V_star, p_value = max(\n",
    "            [\n",
    "                (\n",
    "                    V_idx,\n",
    "                    stat_test(\n",
    "                        D=D.values, V_idx=V_idx, T_idx=T_idx, S=S.difference({V_idx})\n",
    "                    ),\n",
    "                )\n",
    "                for V_idx in S\n",
    "            ],\n",
    "            key=lambda x: x[1],\n",
    "        )\n",
    "        if p_value > a:\n",
    "            S.remove(V_star)\n",
    "            flag = True\n",
    "    return S"
   ],
   "metadata": {
    "collapsed": false
   }
  },
  {
   "cell_type": "markdown",
   "source": [
    "## Step 3: Apply Separately Forward and Backward Algorithms\n",
    "\n",
    "Forward Selection:"
   ],
   "metadata": {
    "collapsed": false
   }
  },
  {
   "cell_type": "code",
   "execution_count": 10,
   "outputs": [],
   "source": [
    "a = 0.05 # significance level\n",
    "\n",
    "# Remove column names to apply feature selection\n",
    "df.columns = range(df.shape[1])\n",
    "\n",
    "x_cols = df.columns[:-1]\n",
    "y_col = df.columns[-1]"
   ],
   "metadata": {
    "collapsed": false,
    "pycharm": {
     "name": "#%%\n"
    }
   }
  },
  {
   "cell_type": "code",
   "execution_count": 11,
   "outputs": [
    {
     "data": {
      "text/plain": "['budget',\n 'runtime',\n 'popularity',\n 'movie_age',\n 'director_score',\n 'company_score']"
     },
     "execution_count": 11,
     "metadata": {},
     "output_type": "execute_result"
    }
   ],
   "source": [
    "forward_selected_vars = forward_selection(D=df, V_indices=x_cols, T_idx=y_col, a=a)\n",
    "forward_selected_vars = [variables[i] for i in forward_selected_vars]\n",
    "forward_selected_vars"
   ],
   "metadata": {
    "collapsed": false,
    "pycharm": {
     "name": "#%%\n"
    }
   }
  },
  {
   "cell_type": "markdown",
   "source": [
    "Backward Elimination:"
   ],
   "metadata": {
    "collapsed": false
   }
  },
  {
   "cell_type": "code",
   "execution_count": 12,
   "outputs": [
    {
     "data": {
      "text/plain": "['budget',\n 'runtime',\n 'popularity',\n 'movie_age',\n 'director_score',\n 'company_score']"
     },
     "execution_count": 12,
     "metadata": {},
     "output_type": "execute_result"
    }
   ],
   "source": [
    "backward_selected_vars = backward_elimination(D=df, T_idx=y_col, S = set(x_cols), a=a)\n",
    "backward_selected_vars = [variables[i] for i in backward_selected_vars]\n",
    "backward_selected_vars"
   ],
   "metadata": {
    "collapsed": false,
    "pycharm": {
     "name": "#%%\n"
    }
   }
  },
  {
   "cell_type": "markdown",
   "source": [
    "## Extra step 4: Apply Forward-Backward variable selection\n",
    "\n",
    "We may also apply forward-backward feature selection algorithm, where you essentially apply forward selection to the full dataset and backward elimination on the selected variables of the forward step, to also see our results"
   ],
   "metadata": {
    "collapsed": false
   }
  },
  {
   "cell_type": "code",
   "execution_count": 13,
   "outputs": [
    {
     "data": {
      "text/plain": "['budget',\n 'runtime',\n 'popularity',\n 'movie_age',\n 'director_score',\n 'company_score']"
     },
     "execution_count": 13,
     "metadata": {},
     "output_type": "execute_result"
    }
   ],
   "source": [
    "S = forward_selection(D=df, V_indices=x_cols, T_idx=y_col, a=a)\n",
    "selected_vars = backward_elimination(D=df, T_idx=y_col, S=S, a=a)\n",
    "selected_vars = [variables[i] for i in selected_vars]\n",
    "selected_vars"
   ],
   "metadata": {
    "collapsed": false,
    "pycharm": {
     "name": "#%%\n"
    }
   }
  }
 ],
 "metadata": {
  "kernelspec": {
   "display_name": "Python 3",
   "language": "python",
   "name": "python3"
  },
  "language_info": {
   "codemirror_mode": {
    "name": "ipython",
    "version": 2
   },
   "file_extension": ".py",
   "mimetype": "text/x-python",
   "name": "python",
   "nbconvert_exporter": "python",
   "pygments_lexer": "ipython2",
   "version": "2.7.6"
  }
 },
 "nbformat": 4,
 "nbformat_minor": 0
}