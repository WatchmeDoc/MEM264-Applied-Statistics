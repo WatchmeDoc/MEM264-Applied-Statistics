{
 "cells": [
  {
   "cell_type": "markdown",
   "source": [
    "<div align=\"center\">\n",
    "\n",
    "# University of Crete\n",
    "# Department of Applied Mathematics\n",
    "\n",
    "## MEM-264: Applied Statistics\n",
    "### Spring Semester 2022-2023\n",
    "#### Authors:\n",
    "#### Theodoros Chalkidis, csd4198@csd.uoc.gr\n",
    "#### George Manos, csd4333@csd.uoc.gr\n",
    "#### Christos Zarkos csd4516@csd.uoc.gr"
   ],
   "metadata": {
    "collapsed": false
   }
  },
  {
   "cell_type": "markdown",
   "source": [
    "## Imports"
   ],
   "metadata": {
    "collapsed": false
   }
  },
  {
   "cell_type": "code",
   "execution_count": 1,
   "metadata": {
    "collapsed": true
   },
   "outputs": [],
   "source": [
    "import pandas as pd\n",
    "from sklearn.linear_model import LinearRegression"
   ]
  },
  {
   "cell_type": "markdown",
   "source": [
    "## Read Data"
   ],
   "metadata": {
    "collapsed": false
   }
  },
  {
   "cell_type": "code",
   "execution_count": 2,
   "outputs": [
    {
     "data": {
      "text/plain": "   id                              belongs_to_collection    budget  \\\n0   1  [{'id': 313576, 'name': 'Hot Tub Time Machine ...  14000000   \n1   2  [{'id': 107674, 'name': 'The Princess Diaries ...  40000000   \n2   3                                                NaN   3300000   \n3   4                                                NaN   1200000   \n4   5                                                NaN         0   \n\n                                              genres  \\\n0                     [{'id': 35, 'name': 'Comedy'}]   \n1  [{'id': 35, 'name': 'Comedy'}, {'id': 18, 'nam...   \n2                      [{'id': 18, 'name': 'Drama'}]   \n3  [{'id': 53, 'name': 'Thriller'}, {'id': 18, 'n...   \n4  [{'id': 28, 'name': 'Action'}, {'id': 53, 'nam...   \n\n                            homepage    imdb_id original_language  \\\n0                                NaN  tt2637294                en   \n1                                NaN  tt0368933                en   \n2  http://sonyclassics.com/whiplash/  tt2582802                en   \n3         http://kahaanithefilm.com/  tt1821480                hi   \n4                                NaN  tt1380152                ko   \n\n                             original_title  \\\n0                    Hot Tub Time Machine 2   \n1  The Princess Diaries 2: Royal Engagement   \n2                                  Whiplash   \n3                                   Kahaani   \n4                                      마린보이   \n\n                                            overview  popularity  ...  \\\n0  When Lou, who has become the \"father of the In...    6.575393  ...   \n1  Mia Thermopolis is now a college graduate and ...    8.248895  ...   \n2  Under the direction of a ruthless instructor, ...   64.299990  ...   \n3  Vidya Bagchi (Vidya Balan) arrives in Kolkata ...    3.174936  ...   \n4  Marine Boy is the story of a former national s...    1.148070  ...   \n\n  release_date runtime                                   spoken_languages  \\\n0      2/20/15    93.0           [{'iso_639_1': 'en', 'name': 'English'}]   \n1       8/6/04   113.0           [{'iso_639_1': 'en', 'name': 'English'}]   \n2     10/10/14   105.0           [{'iso_639_1': 'en', 'name': 'English'}]   \n3       3/9/12   122.0  [{'iso_639_1': 'en', 'name': 'English'}, {'iso...   \n4       2/5/09   118.0           [{'iso_639_1': 'ko', 'name': '한국어/조선말'}]   \n\n     status                                            tagline  \\\n0  Released  The Laws of Space and Time are About to be Vio...   \n1  Released  It can take a lifetime to find true love; she'...   \n2  Released    The road to greatness can take you to the edge.   \n3  Released                                                NaN   \n4  Released                                                NaN   \n\n                                      title  \\\n0                    Hot Tub Time Machine 2   \n1  The Princess Diaries 2: Royal Engagement   \n2                                  Whiplash   \n3                                   Kahaani   \n4                                Marine Boy   \n\n                                            Keywords  \\\n0  [{'id': 4379, 'name': 'time travel'}, {'id': 9...   \n1  [{'id': 2505, 'name': 'coronation'}, {'id': 42...   \n2  [{'id': 1416, 'name': 'jazz'}, {'id': 1523, 'n...   \n3  [{'id': 10092, 'name': 'mystery'}, {'id': 1054...   \n4                                                NaN   \n\n                                                cast  \\\n0  [{'cast_id': 4, 'character': 'Lou', 'credit_id...   \n1  [{'cast_id': 1, 'character': 'Mia Thermopolis'...   \n2  [{'cast_id': 5, 'character': 'Andrew Neimann',...   \n3  [{'cast_id': 1, 'character': 'Vidya Bagchi', '...   \n4  [{'cast_id': 3, 'character': 'Chun-soo', 'cred...   \n\n                                                crew   revenue  \n0  [{'credit_id': '59ac067c92514107af02c8c8', 'de...  12314651  \n1  [{'credit_id': '52fe43fe9251416c7502563d', 'de...  95149435  \n2  [{'credit_id': '54d5356ec3a3683ba0000039', 'de...  13092000  \n3  [{'credit_id': '52fe48779251416c9108d6eb', 'de...  16000000  \n4  [{'credit_id': '52fe464b9251416c75073b43', 'de...   3923970  \n\n[5 rows x 23 columns]",
      "text/html": "<div>\n<style scoped>\n    .dataframe tbody tr th:only-of-type {\n        vertical-align: middle;\n    }\n\n    .dataframe tbody tr th {\n        vertical-align: top;\n    }\n\n    .dataframe thead th {\n        text-align: right;\n    }\n</style>\n<table border=\"1\" class=\"dataframe\">\n  <thead>\n    <tr style=\"text-align: right;\">\n      <th></th>\n      <th>id</th>\n      <th>belongs_to_collection</th>\n      <th>budget</th>\n      <th>genres</th>\n      <th>homepage</th>\n      <th>imdb_id</th>\n      <th>original_language</th>\n      <th>original_title</th>\n      <th>overview</th>\n      <th>popularity</th>\n      <th>...</th>\n      <th>release_date</th>\n      <th>runtime</th>\n      <th>spoken_languages</th>\n      <th>status</th>\n      <th>tagline</th>\n      <th>title</th>\n      <th>Keywords</th>\n      <th>cast</th>\n      <th>crew</th>\n      <th>revenue</th>\n    </tr>\n  </thead>\n  <tbody>\n    <tr>\n      <th>0</th>\n      <td>1</td>\n      <td>[{'id': 313576, 'name': 'Hot Tub Time Machine ...</td>\n      <td>14000000</td>\n      <td>[{'id': 35, 'name': 'Comedy'}]</td>\n      <td>NaN</td>\n      <td>tt2637294</td>\n      <td>en</td>\n      <td>Hot Tub Time Machine 2</td>\n      <td>When Lou, who has become the \"father of the In...</td>\n      <td>6.575393</td>\n      <td>...</td>\n      <td>2/20/15</td>\n      <td>93.0</td>\n      <td>[{'iso_639_1': 'en', 'name': 'English'}]</td>\n      <td>Released</td>\n      <td>The Laws of Space and Time are About to be Vio...</td>\n      <td>Hot Tub Time Machine 2</td>\n      <td>[{'id': 4379, 'name': 'time travel'}, {'id': 9...</td>\n      <td>[{'cast_id': 4, 'character': 'Lou', 'credit_id...</td>\n      <td>[{'credit_id': '59ac067c92514107af02c8c8', 'de...</td>\n      <td>12314651</td>\n    </tr>\n    <tr>\n      <th>1</th>\n      <td>2</td>\n      <td>[{'id': 107674, 'name': 'The Princess Diaries ...</td>\n      <td>40000000</td>\n      <td>[{'id': 35, 'name': 'Comedy'}, {'id': 18, 'nam...</td>\n      <td>NaN</td>\n      <td>tt0368933</td>\n      <td>en</td>\n      <td>The Princess Diaries 2: Royal Engagement</td>\n      <td>Mia Thermopolis is now a college graduate and ...</td>\n      <td>8.248895</td>\n      <td>...</td>\n      <td>8/6/04</td>\n      <td>113.0</td>\n      <td>[{'iso_639_1': 'en', 'name': 'English'}]</td>\n      <td>Released</td>\n      <td>It can take a lifetime to find true love; she'...</td>\n      <td>The Princess Diaries 2: Royal Engagement</td>\n      <td>[{'id': 2505, 'name': 'coronation'}, {'id': 42...</td>\n      <td>[{'cast_id': 1, 'character': 'Mia Thermopolis'...</td>\n      <td>[{'credit_id': '52fe43fe9251416c7502563d', 'de...</td>\n      <td>95149435</td>\n    </tr>\n    <tr>\n      <th>2</th>\n      <td>3</td>\n      <td>NaN</td>\n      <td>3300000</td>\n      <td>[{'id': 18, 'name': 'Drama'}]</td>\n      <td>http://sonyclassics.com/whiplash/</td>\n      <td>tt2582802</td>\n      <td>en</td>\n      <td>Whiplash</td>\n      <td>Under the direction of a ruthless instructor, ...</td>\n      <td>64.299990</td>\n      <td>...</td>\n      <td>10/10/14</td>\n      <td>105.0</td>\n      <td>[{'iso_639_1': 'en', 'name': 'English'}]</td>\n      <td>Released</td>\n      <td>The road to greatness can take you to the edge.</td>\n      <td>Whiplash</td>\n      <td>[{'id': 1416, 'name': 'jazz'}, {'id': 1523, 'n...</td>\n      <td>[{'cast_id': 5, 'character': 'Andrew Neimann',...</td>\n      <td>[{'credit_id': '54d5356ec3a3683ba0000039', 'de...</td>\n      <td>13092000</td>\n    </tr>\n    <tr>\n      <th>3</th>\n      <td>4</td>\n      <td>NaN</td>\n      <td>1200000</td>\n      <td>[{'id': 53, 'name': 'Thriller'}, {'id': 18, 'n...</td>\n      <td>http://kahaanithefilm.com/</td>\n      <td>tt1821480</td>\n      <td>hi</td>\n      <td>Kahaani</td>\n      <td>Vidya Bagchi (Vidya Balan) arrives in Kolkata ...</td>\n      <td>3.174936</td>\n      <td>...</td>\n      <td>3/9/12</td>\n      <td>122.0</td>\n      <td>[{'iso_639_1': 'en', 'name': 'English'}, {'iso...</td>\n      <td>Released</td>\n      <td>NaN</td>\n      <td>Kahaani</td>\n      <td>[{'id': 10092, 'name': 'mystery'}, {'id': 1054...</td>\n      <td>[{'cast_id': 1, 'character': 'Vidya Bagchi', '...</td>\n      <td>[{'credit_id': '52fe48779251416c9108d6eb', 'de...</td>\n      <td>16000000</td>\n    </tr>\n    <tr>\n      <th>4</th>\n      <td>5</td>\n      <td>NaN</td>\n      <td>0</td>\n      <td>[{'id': 28, 'name': 'Action'}, {'id': 53, 'nam...</td>\n      <td>NaN</td>\n      <td>tt1380152</td>\n      <td>ko</td>\n      <td>마린보이</td>\n      <td>Marine Boy is the story of a former national s...</td>\n      <td>1.148070</td>\n      <td>...</td>\n      <td>2/5/09</td>\n      <td>118.0</td>\n      <td>[{'iso_639_1': 'ko', 'name': '한국어/조선말'}]</td>\n      <td>Released</td>\n      <td>NaN</td>\n      <td>Marine Boy</td>\n      <td>NaN</td>\n      <td>[{'cast_id': 3, 'character': 'Chun-soo', 'cred...</td>\n      <td>[{'credit_id': '52fe464b9251416c75073b43', 'de...</td>\n      <td>3923970</td>\n    </tr>\n  </tbody>\n</table>\n<p>5 rows × 23 columns</p>\n</div>"
     },
     "execution_count": 2,
     "metadata": {},
     "output_type": "execute_result"
    }
   ],
   "source": [
    "full_df = pd.read_csv('../data/movie_revenues.csv')\n",
    "\n",
    "full_df.head()"
   ],
   "metadata": {
    "collapsed": false,
    "pycharm": {
     "name": "#%%\n"
    }
   }
  },
  {
   "cell_type": "markdown",
   "source": [
    "## Data Preparation\n",
    "\n",
    "Choose the desired predictors, construct more features prior to model training"
   ],
   "metadata": {
    "collapsed": false,
    "pycharm": {
     "name": "#%% md\n"
    }
   }
  },
  {
   "cell_type": "code",
   "execution_count": 6,
   "outputs": [
    {
     "data": {
      "text/plain": "     budget  is_english  runtime  popularity   revenue\n0  14000000        True     93.0    6.575393  12314651\n1  40000000        True    113.0    8.248895  95149435\n2   3300000        True    105.0   64.299990  13092000\n3   1200000       False    122.0    3.174936  16000000\n4         0       False    118.0    1.148070   3923970",
      "text/html": "<div>\n<style scoped>\n    .dataframe tbody tr th:only-of-type {\n        vertical-align: middle;\n    }\n\n    .dataframe tbody tr th {\n        vertical-align: top;\n    }\n\n    .dataframe thead th {\n        text-align: right;\n    }\n</style>\n<table border=\"1\" class=\"dataframe\">\n  <thead>\n    <tr style=\"text-align: right;\">\n      <th></th>\n      <th>budget</th>\n      <th>is_english</th>\n      <th>runtime</th>\n      <th>popularity</th>\n      <th>revenue</th>\n    </tr>\n  </thead>\n  <tbody>\n    <tr>\n      <th>0</th>\n      <td>14000000</td>\n      <td>True</td>\n      <td>93.0</td>\n      <td>6.575393</td>\n      <td>12314651</td>\n    </tr>\n    <tr>\n      <th>1</th>\n      <td>40000000</td>\n      <td>True</td>\n      <td>113.0</td>\n      <td>8.248895</td>\n      <td>95149435</td>\n    </tr>\n    <tr>\n      <th>2</th>\n      <td>3300000</td>\n      <td>True</td>\n      <td>105.0</td>\n      <td>64.299990</td>\n      <td>13092000</td>\n    </tr>\n    <tr>\n      <th>3</th>\n      <td>1200000</td>\n      <td>False</td>\n      <td>122.0</td>\n      <td>3.174936</td>\n      <td>16000000</td>\n    </tr>\n    <tr>\n      <th>4</th>\n      <td>0</td>\n      <td>False</td>\n      <td>118.0</td>\n      <td>1.148070</td>\n      <td>3923970</td>\n    </tr>\n  </tbody>\n</table>\n</div>"
     },
     "execution_count": 6,
     "metadata": {},
     "output_type": "execute_result"
    }
   ],
   "source": [
    "\n",
    "# Afhnw pros to parwn to paradeigma apo prin, mporoume na ftiaksoume k alla tetoia\n",
    "full_df['is_english'] = full_df['original_language'] == 'en'\n",
    "\n",
    "df = full_df[['budget', 'is_english', 'runtime', 'popularity', 'revenue']].dropna()\n",
    "target = df['revenue']\n",
    "df.head()"
   ],
   "metadata": {
    "collapsed": false,
    "pycharm": {
     "name": "#%%\n"
    }
   }
  },
  {
   "cell_type": "markdown",
   "source": [
    "Note: `.dropna()` drops columns with NaN values. We can probably address this issue in better ways (i.e. mean imputation etc)\n",
    "\n",
    "## Train Model"
   ],
   "metadata": {
    "collapsed": false
   }
  },
  {
   "cell_type": "code",
   "execution_count": 7,
   "outputs": [],
   "source": [
    "model = LinearRegression().fit(df.drop('revenue', axis='columns'), target)"
   ],
   "metadata": {
    "collapsed": false,
    "pycharm": {
     "name": "#%%\n"
    }
   }
  },
  {
   "cell_type": "markdown",
   "source": [
    "## Compute R^2"
   ],
   "metadata": {
    "collapsed": false
   }
  },
  {
   "cell_type": "code",
   "execution_count": null,
   "outputs": [],
   "source": [
    "pass"
   ],
   "metadata": {
    "collapsed": false,
    "pycharm": {
     "name": "#%%\n"
    }
   }
  },
  {
   "cell_type": "markdown",
   "source": [
    "## Check the slope associated with the Budget Variable"
   ],
   "metadata": {
    "collapsed": false
   }
  },
  {
   "cell_type": "code",
   "execution_count": null,
   "outputs": [],
   "source": [
    "pass"
   ],
   "metadata": {
    "collapsed": false,
    "pycharm": {
     "name": "#%%\n"
    }
   }
  },
  {
   "cell_type": "markdown",
   "source": [
    "## Find most significant variables for predicting movie revenue\n",
    "\n",
    "Probably check the weight coefficients for each variable and find the k-highest ones?"
   ],
   "metadata": {
    "collapsed": false
   }
  },
  {
   "cell_type": "code",
   "execution_count": null,
   "outputs": [],
   "source": [],
   "metadata": {
    "collapsed": false,
    "pycharm": {
     "name": "#%%\n"
    }
   }
  }
 ],
 "metadata": {
  "kernelspec": {
   "display_name": "Python 3",
   "language": "python",
   "name": "python3"
  },
  "language_info": {
   "codemirror_mode": {
    "name": "ipython",
    "version": 2
   },
   "file_extension": ".py",
   "mimetype": "text/x-python",
   "name": "python",
   "nbconvert_exporter": "python",
   "pygments_lexer": "ipython2",
   "version": "2.7.6"
  }
 },
 "nbformat": 4,
 "nbformat_minor": 0
}